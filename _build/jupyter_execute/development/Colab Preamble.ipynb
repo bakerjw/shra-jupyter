{
 "cells": [
  {
   "cell_type": "markdown",
   "metadata": {},
   "source": [
    "# Text to put at the start of notebooks for helper files in Colab"
   ]
  },
  {
   "cell_type": "code",
   "execution_count": 6,
   "metadata": {},
   "outputs": [],
   "source": [
    "# Check if running in Colab\n",
    "import sys\n",
    "IN_COLAB = 'google.colab' in sys.modules\n",
    "\n",
    "# Set up helper functions\n",
    "if IN_COLAB:\n",
    "    # Download helper functions\n",
    "    !wget -q https://raw.githubusercontent.com/yourusername/my-earthquake-book/main/helpers/utils.py\n",
    "    !wget -q https://raw.githubusercontent.com/yourusername/my-earthquake-book/main/helpers/data_utils.py\n",
    "    \n",
    "    # Download any required data files\n",
    "    !wget -q https://raw.githubusercontent.com/yourusername/my-earthquake-book/main/data/sample_data.csv\n",
    "\n",
    "# Import helper functions\n",
    "# from utils import calculate_fragility, plot_fragility_function"
   ]
  }
 ],
 "metadata": {
  "colab": {
   "authorship_tag": "ABX9TyNH23ZjIjLXwErvtlHpH84V",
   "provenance": []
  },
  "kernelspec": {
   "display_name": "JupyterBook",
   "language": "python",
   "name": "python3"
  },
  "language_info": {
   "codemirror_mode": {
    "name": "ipython",
    "version": 3
   },
   "file_extension": ".py",
   "mimetype": "text/x-python",
   "name": "python",
   "nbconvert_exporter": "python",
   "pygments_lexer": "ipython3",
   "version": "3.13.0"
  }
 },
 "nbformat": 4,
 "nbformat_minor": 0
}