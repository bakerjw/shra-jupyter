{
 "cells": [
  {
   "cell_type": "markdown",
   "metadata": {},
   "source": [
    "# Analyze NGA-West2 database"
   ]
  },
  {
   "cell_type": "code",
   "execution_count": 1,
   "metadata": {
    "executionInfo": {
     "elapsed": 10,
     "status": "ok",
     "timestamp": 1740611284949,
     "user": {
      "displayName": "Jack Wesley Baker",
      "userId": "04310741851728712835"
     },
     "user_tz": 480
    },
    "id": "CK0GkHQRfBFU"
   },
   "outputs": [],
   "source": [
    "import os \n",
    "import numpy as np\n",
    "import matplotlib.pyplot as plt\n",
    "import pandas as pd\n"
   ]
  },
  {
   "cell_type": "markdown",
   "metadata": {
    "id": "HUI6q1JQgy1D"
   },
   "source": [
    "## Load database flatfile\n",
    "\n",
    "The original Excel file is from https://peer.berkeley.edu/research/databases/databases. It is easier to load from a Parquet format. So the script checks for a Parquet copy and uses that if possible. Otherwise it loads the original file and saves it as a Parquet copy for future use."
   ]
  },
  {
   "cell_type": "code",
   "execution_count": 6,
   "metadata": {
    "executionInfo": {
     "elapsed": 3,
     "status": "ok",
     "timestamp": 1740611286700,
     "user": {
      "displayName": "Jack Wesley Baker",
      "userId": "04310741851728712835"
     },
     "user_tz": 480
    },
    "id": "t26Fsqb0gwWd"
   },
   "outputs": [],
   "source": [
    "# Define file paths\n",
    "excel_path = '../data/Updated_NGA_West2_Flatfile_RotD50_d050_public_version.xlsx'\n",
    "parquet_path = '../data/nga_w2_flatfile.parquet' \n",
    "csv_path = '../data/nga_w2_flatfile.csv' \n",
    "\n",
    "# Check if the Parquet file exists\n",
    "if os.path.exists(parquet_path):\n",
    "    nga_w2_flatfile = pd.read_parquet(parquet_path)\n",
    "else:\n",
    "    print(f\"Parquet file not found. Loading data from Excel file: {excel_path}\")\n",
    "    nga_w2_flatfile = pd.read_excel(excel_path)\n",
    "    \n",
    "    # convert Object columns to strings\n",
    "    object_columns = nga_w2_flatfile.select_dtypes(include=['object']).columns\n",
    "    nga_w2_flatfile[object_columns] = nga_w2_flatfile[object_columns].astype('string')\n",
    "    \n",
    "    # Save to Parquet for future use\n",
    "    nga_w2_flatfile.to_parquet(parquet_path)\n",
    "\n",
    "\n",
    "nga_w2_flatfile.to_csv(csv_path, index=False)    "
   ]
  }
 ],
 "metadata": {
  "colab": {
   "authorship_tag": "ABX9TyNH23ZjIjLXwErvtlHpH84V",
   "provenance": []
  },
  "kernelspec": {
   "display_name": "JupyterBook",
   "language": "python",
   "name": "python3"
  },
  "language_info": {
   "codemirror_mode": {
    "name": "ipython",
    "version": 3
   },
   "file_extension": ".py",
   "mimetype": "text/x-python",
   "name": "python",
   "nbconvert_exporter": "python",
   "pygments_lexer": "ipython3",
   "version": "3.13.0"
  }
 },
 "nbformat": 4,
 "nbformat_minor": 0
}
