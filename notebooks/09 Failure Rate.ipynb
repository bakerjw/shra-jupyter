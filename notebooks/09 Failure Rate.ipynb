{
 "cells": [
  {
   "cell_type": "markdown",
   "metadata": {},
   "source": [
    "# Failure Rate Calculation"
   ]
  },
  {
   "cell_type": "markdown",
   "metadata": {},
   "source": [
    "Reproduce book calculations related to failure rates"
   ]
  },
  {
   "cell_type": "code",
   "execution_count": 1,
   "metadata": {},
   "outputs": [],
   "source": [
    "# Check if running in Colab\n",
    "import sys\n",
    "IN_COLAB = 'google.colab' in sys.modules\n",
    "\n",
    "# Set up helper functions\n",
    "if IN_COLAB:\n",
    "    # Download helper functions\n",
    "    !wget -q https://raw.githubusercontent.com/yourusername/my-earthquake-book/main/helpers/utils.py\n",
    "    !wget -q https://raw.githubusercontent.com/yourusername/my-earthquake-book/main/helpers/data_utils.py\n",
    "    \n",
    "    # Download any required data files\n",
    "    !wget -q https://raw.githubusercontent.com/yourusername/my-earthquake-book/main/data/sample_data.csv\n",
    "\n",
    "# Import helper functions\n",
    "# from utils import calculate_fragility, plot_fragility_function"
   ]
  },
  {
   "cell_type": "code",
   "execution_count": 2,
   "metadata": {
    "executionInfo": {
     "elapsed": 10,
     "status": "ok",
     "timestamp": 1740611284949,
     "user": {
      "displayName": "Jack Wesley Baker",
      "userId": "04310741851728712835"
     },
     "user_tz": 480
    },
    "id": "CK0GkHQRfBFU"
   },
   "outputs": [],
   "source": [
    "import numpy as np\n",
    "import matplotlib.pyplot as plt\n",
    "import pandas as pd\n",
    "from scipy.stats import norm # type: ignore\n",
    "\n",
    "# Set up color and line style specifications\n",
    "colors = {\n",
    "    1: np.array([56, 95, 150])/255,\n",
    "    2: np.array([207, 89, 33])/255,\n",
    "    3: np.array([158, 184, 219])/255,\n",
    "    4: np.array([231, 184, 0])/255,\n",
    "    5: np.array([128, 0, 0])/255\n",
    "}"
   ]
  },
  {
   "cell_type": "markdown",
   "metadata": {
    "id": "HUI6q1JQgy1D"
   },
   "source": [
    "Specify a hazard curve and fragility parameters"
   ]
  },
  {
   "cell_type": "code",
   "metadata": {
    "executionInfo": {
     "elapsed": 3,
     "status": "ok",
     "timestamp": 1740611286700,
     "user": {
      "displayName": "Jack Wesley Baker",
      "userId": "04310741851728712835"
     },
     "user_tz": 480
    },
    "id": "t26Fsqb0gwWd"
   },
   "outputs": [],
   "source": "# load hazard curve (from simplified logic tree example)\nhazard_curve = pd.read_csv('../data/hazard_curve_1.csv', dtype={'im': float, 'lambda_im': float})\n\n\n# Define fragility function parameters\ntheta_im = 0.5  # Fragility median\nbeta_im = 0.4   # Fragility beta (standard deviation of the natural log of the IM)"
  },
  {
   "cell_type": "markdown",
   "metadata": {
    "id": "Z3g2_6F7g5JO"
   },
   "source": [
    "Calculate and plot the fragility function"
   ]
  },
  {
   "cell_type": "code",
   "metadata": {
    "colab": {
     "base_uri": "https://localhost:8080/",
     "height": 472
    },
    "executionInfo": {
     "elapsed": 578,
     "status": "ok",
     "timestamp": 1740611296499,
     "user": {
      "displayName": "Jack Wesley Baker",
      "userId": "04310741851728712835"
     },
     "user_tz": 480
    },
    "id": "DZwk0S30hAde",
    "outputId": "972b607b-c01f-495d-bdce-4c1666537ed7"
   },
   "outputs": [],
   "source": "# Calculate the fragility function (probability of failure given IM)\nim = hazard_curve['im'].values\nlambda_im = hazard_curve['lambda_im'].values\np_fail = norm.cdf(np.log(im), np.log(theta_im), beta_im)\n\n# Plot the fragility function\nplt.figure()\nplt.plot(im, p_fail, '-', color=colors[1], linewidth=2)\nplt.plot([0.01, theta_im, theta_im], [0.5, 0.5, 0], 'k:', linewidth=1)\nplt.xlabel('Intensity Measure, IM')\nplt.ylabel('P(F | IM = im)')\nplt.axis([0, 1.5, 0, 1])\nplt.grid(alpha=0.3)\nplt.show()"
  },
  {
   "cell_type": "markdown",
   "metadata": {
    "id": "0eMmPZgOhSF8"
   },
   "source": [
    "Failure rate calculations"
   ]
  },
  {
   "cell_type": "code",
   "metadata": {
    "colab": {
     "base_uri": "https://localhost:8080/",
     "height": 504
    },
    "executionInfo": {
     "elapsed": 621,
     "status": "ok",
     "timestamp": 1740611460620,
     "user": {
      "displayName": "Jack Wesley Baker",
      "userId": "04310741851728712835"
     },
     "user_tz": 480
    },
    "id": "viUTBZY6hE06",
    "outputId": "ed01a3dd-607c-4e8f-a659-4a1859aa77cc"
   },
   "outputs": [],
   "source": "# Calculate failure rate\n# Take the absolute value of the negative derivative of the hazard curve\nd_lambda = np.abs(np.append(np.diff(lambda_im), 0))\nfail_contrib = p_fail * d_lambda\nfail_rate = np.sum(fail_contrib)\nprint(f\"Failure Rate: {fail_rate:.6e}\")\n\n# Plot hazard and fragility on the same plot using two y-axes\nfig, ax1 = plt.subplots()\n\n# Left y-axis: fragility function\nax1.set_xlabel('SA(1 s) [g]')\nax1.set_ylabel('Failure probability, P(F | IM = x)')\nax1.plot(im, p_fail, '-', color=colors[1], linewidth=2, label='Fragility, θ = 0.5 g')\nax1.set_xlim(0, 1.5)\nax1.set_ylim(0, 1)\nax1.tick_params(axis='y', labelcolor='black')\n\n# Right y-axis: hazard curve\nax2 = ax1.twinx()\nax2.set_ylabel('Annual rate of exceedance, λ(IM>x)')\nax2.plot(im, lambda_im, '-', color=colors[3], linewidth=2, label='Ground-motion hazard')\nax2.set_ylim(0, 0.002)\nax2.tick_params(axis='y', labelcolor='black')\n\n# Add a legend\nlines1, labels1 = ax1.get_legend_handles_labels()\nlines2, labels2 = ax2.get_legend_handles_labels()\nax1.legend(lines1 + lines2, labels1 + labels2, loc='lower right')\n\nplt.grid(alpha=0.3)\nplt.tight_layout()\nplt.show()"
  },
  {
   "cell_type": "code",
   "metadata": {
    "colab": {
     "base_uri": "https://localhost:8080/",
     "height": 504
    },
    "executionInfo": {
     "elapsed": 663,
     "status": "ok",
     "timestamp": 1740611633446,
     "user": {
      "displayName": "Jack Wesley Baker",
      "userId": "04310741851728712835"
     },
     "user_tz": 480
    },
    "id": "dDhXD76Eh0ZW",
    "outputId": "79e87e97-ff50-4c7e-8f34-5d9ef6a7b64e"
   },
   "outputs": [],
   "source": "# Discretize for tabular output\nx_short = np.arange(0.01, 1.51, 0.01)\nlambda_short = np.interp(x_short, im, lambda_im)\nd_lambda_short = np.abs(np.append(np.diff(lambda_short), lambda_short[-1]))\np_fail_short = norm.cdf(np.log(x_short), np.log(theta_im), beta_im)\n\nfail_rate_discrete = np.sum(p_fail_short * d_lambda_short)\nprint(f\"Failure Rate (discrete): {fail_rate_discrete:.6e}\")\n\n# Plot the failure rate contributions as a bar chart\nplt.figure()\nplt.bar(x_short, p_fail_short * d_lambda_short, width=0.008, color=colors[3], alpha=0.7)\nplt.xlabel('SA(1 s) [g]')\nplt.ylabel('$P(F | IM = x_i) Δλ_i$')\nplt.xlim(0, 1.6)\nplt.ylim(0, 8e-6)\nplt.grid(alpha=0.3)\nplt.tight_layout()\nplt.show()"
  },
  {
   "cell_type": "code",
   "metadata": {
    "colab": {
     "base_uri": "https://localhost:8080/",
     "height": 1000
    },
    "executionInfo": {
     "elapsed": 346,
     "status": "ok",
     "timestamp": 1740611642387,
     "user": {
      "displayName": "Jack Wesley Baker",
      "userId": "04310741851728712835"
     },
     "user_tz": 480
    },
    "id": "_eTv23-_fC68",
    "outputId": "8385c00c-57d3-4b0d-a354-5bb789375935"
   },
   "outputs": [],
   "source": "# Optional: Display the contributions for selected IM levels in a table\nimport pandas as pd\n\n# Create a DataFrame for selected IM levels for demonstration\nselected_indices = np.arange(0, len(x_short), 10)  # Every 10th value\nselected_im = x_short[selected_indices]\nselected_p_fail = p_fail_short[selected_indices]\nselected_d_lambda = d_lambda_short[selected_indices]\nselected_contrib = selected_p_fail * selected_d_lambda\n\ndf = pd.DataFrame({\n    'IM': selected_im,\n    'P(F|IM)': selected_p_fail,\n    'ΔλIM': selected_d_lambda,\n    'Contribution': selected_contrib\n})\n\nprint(\"Selected IM level contributions to failure rate:\")\ndisplay(df)"
  },
  {
   "cell_type": "code",
   "execution_count": null,
   "metadata": {
    "id": "SVoxCvtrfp3C"
   },
   "outputs": [],
   "source": []
  }
 ],
 "metadata": {
  "colab": {
   "authorship_tag": "ABX9TyNH23ZjIjLXwErvtlHpH84V",
   "provenance": []
  },
  "kernelspec": {
   "display_name": "JupyterBook",
   "language": "python",
   "name": "python3"
  },
  "language_info": {
   "codemirror_mode": {
    "name": "ipython",
    "version": 3
   },
   "file_extension": ".py",
   "mimetype": "text/x-python",
   "name": "python",
   "nbconvert_exporter": "python",
   "pygments_lexer": "ipython3",
   "version": "3.13.0"
  }
 },
 "nbformat": 4,
 "nbformat_minor": 0
}