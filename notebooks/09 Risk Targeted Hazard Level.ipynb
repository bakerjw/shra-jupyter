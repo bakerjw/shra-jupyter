{
 "cells": [
  {
   "cell_type": "markdown",
   "metadata": {
    "id": "JSAziutruYLg"
   },
   "source": [
    "# Risk-targeted Ground Motion Amplitudes"
   ]
  },
  {
   "cell_type": "markdown",
   "source": "[![Open In Colab](https://colab.research.google.com/assets/colab-badge.svg)](https://colab.research.google.com/github/bakerjw/shra-jupyter/blob/main/notebooks/09%20Risk%20Targeted%20Hazard%20Level.ipynb)",
   "metadata": {}
  },
  {
   "cell_type": "code",
   "execution_count": 1,
   "metadata": {
    "executionInfo": {
     "elapsed": 2492,
     "status": "ok",
     "timestamp": 1725990340305,
     "user": {
      "displayName": "Jack Wesley Baker",
      "userId": "04310741851728712835"
     },
     "user_tz": 420
    },
    "id": "46Y5llltvHb7"
   },
   "outputs": [],
   "source": [
    "import numpy as np\n",
    "import matplotlib.pyplot as plt\n",
    "from scipy.stats import norm\n",
    "from scipy.interpolate import interp1d"
   ]
  },
  {
   "cell_type": "code",
   "metadata": {
    "executionInfo": {
     "elapsed": 11,
     "status": "ok",
     "timestamp": 1725990340305,
     "user": {
      "displayName": "Jack Wesley Baker",
      "userId": "04310741851728712835"
     },
     "user_tz": 420
    },
    "id": "c_Aq6BhgvNmd"
   },
   "outputs": [],
   "source": "# Define colors\ncolor_spec = [\n    [56/255, 95/255, 150/255],\n    [207/255, 89/255, 33/255],\n    [158/255, 184/255, 219/255],\n    [231/255, 184/255, 0/255],\n    [128/255, 0/255, 0/255] ]"
  },
  {
   "cell_type": "code",
   "execution_count": 3,
   "metadata": {
    "executionInfo": {
     "elapsed": 10,
     "status": "ok",
     "timestamp": 1725990340305,
     "user": {
      "displayName": "Jack Wesley Baker",
      "userId": "04310741851728712835"
     },
     "user_tz": 420
    },
    "id": "rg_LepIVvTCM"
   },
   "outputs": [],
   "source": [
    "# Load previous hazard curve\n",
    "x = np.logspace(np.log10(0.001), np.log10(2), 100)  # IM values to consider"
   ]
  },
  {
   "cell_type": "code",
   "metadata": {
    "executionInfo": {
     "elapsed": 10,
     "status": "ok",
     "timestamp": 1725990340305,
     "user": {
      "displayName": "Jack Wesley Baker",
      "userId": "04310741851728712835"
     },
     "user_tz": 420
    },
    "id": "e5-AqqLJvWaS"
   },
   "outputs": [],
   "source": "# Mean hazard from Chapter 6 simplified logic tree\nlambda_mean = np.array([0.0251694954594308, 0.0243005973346253, 0.0234365472558623, 0.0225792462468511, 0.0217305158448367,\n                       0.0208920837822666, 0.0200655715142511, 0.0192524837495085, 0.0184542000865126, 0.0176719688005284,\n                       0.0169069027730509, 0.0161599775046000, 0.0154320311063565, 0.0147237661269249, 0.0140357530384293,\n                       0.0133684351816874, 0.0127221349535275, 0.0120970610102702, 0.0114933162595579, 0.0109109064174252,\n                       0.0103497489179256, 0.00980968197780037, 0.00929047363756543, 0.00879183062195665, 0.00831340688589137,\n                       0.00785481173602961, 0.00741561744179956, 0.00699536627266170, 0.00659357691982798, 0.00620975028017252,\n                       0.00584337459734840, 0.00549392996997187, 0.00516089224907525, 0.00484373635688936, 0.00454193906650127,\n                       0.00425498128721521, 0.00398234990373885, 0.00372353921886845, 0.00347805204941328, 0.00324540052394014,\n                       0.00302510662878499, 0.00281670254590154, 0.00261973082270939, 0.00243374441035183, 0.00225830660283430,\n                       0.00209299090552312, 0.00193738085754465, 0.00179106982882404, 0.00165366080890037, 0.00152476620129790,\n                       0.00140400763414932, 0.00129101579497441, 0.00118543029502282, 0.00108689956639214, 0.000995080793225799,\n                       0.000909639876668399, 0.000830251431896055, 0.000756598814428752, 0.000688374172055584, 0.000625278518042679,\n                       0.000567021820830418, 0.000513323105142555, 0.000463910559307276, 0.000418521643610899, 0.000376903194651442,\n                       0.000338811520914285, 0.000304012485139082, 0.000272281569469359, 0.000243403919858480, 0.000217174366732617,\n                       0.000193397419468867, 0.000171887232821039, 0.000152467544004570, 0.000134971579723542, 0.000119241932976582,\n                       0.000105130410005028, 9.24978482376873e-05, 8.12139065351012e-05, 7.11568294363794e-05, 6.22131874592354e-05,\n                       5.42775957953396e-05, 4.72524139769621e-05, 4.10474292661717e-05, 3.55795266353024e-05, 3.07723482686310e-05,\n                       2.65559455227739e-05, 2.28664262410104e-05, 1.96456002286791e-05, 1.68406255681954e-05, 1.44036582884222e-05,\n                       1.22915077099856e-05, 1.04652995717140e-05, 8.89014880956513e-06, 7.53484361431181e-06, 6.37154214337735e-06,\n                       5.37548301094735e-06, 4.52471043365022e-06, 3.79981467097529e-06, 3.18368817390031e-06, 2.66129764494389e-06])\nlambda_im = lambda_mean  # Pick a hazard curve to use"
  },
  {
   "cell_type": "code",
   "metadata": {
    "executionInfo": {
     "elapsed": 9,
     "status": "ok",
     "timestamp": 1725990340305,
     "user": {
      "displayName": "Jack Wesley Baker",
      "userId": "04310741851728712835"
     },
     "user_tz": 420
    },
    "id": "DNzRMKlevcXh"
   },
   "outputs": [],
   "source": "d_lambda = abs(np.append(np.diff(lambda_im), 0))  # Derivative of hazard curve"
  },
  {
   "cell_type": "code",
   "metadata": {
    "executionInfo": {
     "elapsed": 9,
     "status": "ok",
     "timestamp": 1725990340305,
     "user": {
      "displayName": "Jack Wesley Baker",
      "userId": "04310741851728712835"
     },
     "user_tz": 420
    },
    "id": "qYOxLzIOvpot"
   },
   "outputs": [],
   "source": "# Find risk-targeted fragility\nlambda_targ = 2e-4  # Target collapse risk\np_targ = 1 - np.exp(-lambda_targ * 50)  # Collapse probability in 50 years\n\nbeta_im = 0.6  # Assumed fragility beta\ntheta_im = np.arange(0.1, 0.61, 0.01)\nfail_rate = np.zeros_like(theta_im)"
  },
  {
   "cell_type": "code",
   "metadata": {
    "executionInfo": {
     "elapsed": 9,
     "status": "ok",
     "timestamp": 1725990340305,
     "user": {
      "displayName": "Jack Wesley Baker",
      "userId": "04310741851728712835"
     },
     "user_tz": 420
    },
    "id": "yaAWwFcwvwr2"
   },
   "outputs": [],
   "source": "for i in range(len(theta_im)):\n    p_fail = norm.cdf(np.log(x), np.log(theta_im[i]), beta_im)\n    fail_rate[i] = np.sum(p_fail * d_lambda)\n\n# Create the interpolation function\ninterpolator = interp1d(fail_rate, theta_im, fill_value=\"extrapolate\")\ntheta_target = interpolator(lambda_targ)  # Find risk-targeted theta"
  },
  {
   "cell_type": "code",
   "metadata": {
    "colab": {
     "base_uri": "https://localhost:8080/"
    },
    "executionInfo": {
     "elapsed": 8,
     "status": "ok",
     "timestamp": 1725990340305,
     "user": {
      "displayName": "Jack Wesley Baker",
      "userId": "04310741851728712835"
     },
     "user_tz": 420
    },
    "id": "F6LI7zksRhmh",
    "outputId": "884a1c13-1241-4dad-9057-2a0745f64321"
   },
   "outputs": [],
   "source": "theta_im"
  },
  {
   "cell_type": "code",
   "metadata": {
    "colab": {
     "base_uri": "https://localhost:8080/",
     "height": 472
    },
    "executionInfo": {
     "elapsed": 1470,
     "status": "ok",
     "timestamp": 1725990341961,
     "user": {
      "displayName": "Jack Wesley Baker",
      "userId": "04310741851728712835"
     },
     "user_tz": 420
    },
    "id": "IC3wTR6Xv4-_",
    "outputId": "701b218a-2b59-459e-9f63-be439d0ab283"
   },
   "outputs": [],
   "source": "plt.figure()\nplt.plot(theta_im, fail_rate, '-', linewidth=2, color=color_spec[0])\nplt.plot(theta_im, lambda_targ * np.ones_like(theta_im), ':k', linewidth=1)\nplt.plot(theta_target * np.ones(2), [0, lambda_targ], '--k', linewidth=1)\nplt.legend(['λ(F | θ)', 'Target λ(F)'])\nplt.xlabel('Fragility median, θ [g]')\nplt.ylabel('Annual failure rate, λ(F)')\nplt.xlim([0.1,0.6])\nplt.ylim([0,0.0007])"
  },
  {
   "cell_type": "code",
   "metadata": {
    "executionInfo": {
     "elapsed": 14,
     "status": "ok",
     "timestamp": 1725990341961,
     "user": {
      "displayName": "Jack Wesley Baker",
      "userId": "04310741851728712835"
     },
     "user_tz": 420
    },
    "id": "hVbjwwqL0lfd"
   },
   "outputs": [],
   "source": "# Alternate beta\nbeta_im2 = 0.7  # Assumed fragility beta\nfail_rate2 = np.zeros_like(theta_im)\nfor i in range(len(theta_im)):\n    p_fail = norm.cdf(np.log(x), np.log(theta_im[i]), beta_im2)\n    fail_rate2[i] = np.sum(p_fail * d_lambda)\n\n# Create the interpolation function\ninterpolator2 = interp1d(fail_rate2, theta_im, fill_value=\"extrapolate\")\ntheta_target2 = interpolator2(lambda_targ)  # Find risk-targeted theta"
  },
  {
   "cell_type": "code",
   "metadata": {
    "executionInfo": {
     "elapsed": 12,
     "status": "ok",
     "timestamp": 1725990341961,
     "user": {
      "displayName": "Jack Wesley Baker",
      "userId": "04310741851728712835"
     },
     "user_tz": 420
    },
    "id": "ZepjxZNa1G2W"
   },
   "outputs": [],
   "source": "# Another alternate beta\nbeta_im3 = 0.8  # Assumed fragility beta\nfail_rate3 = np.zeros_like(theta_im)\nfor i in range(len(theta_im)):\n    p_fail = norm.cdf(np.log(x), np.log(theta_im[i]), beta_im3)\n    fail_rate3[i] = np.sum(p_fail * d_lambda)\n\n# Create the interpolation function\ninterpolator3 = interp1d(fail_rate3, theta_im, fill_value=\"extrapolate\")\ntheta_target3 = interpolator3(lambda_targ)  # Find risk-targeted theta"
  },
  {
   "cell_type": "code",
   "metadata": {
    "colab": {
     "base_uri": "https://localhost:8080/",
     "height": 455
    },
    "executionInfo": {
     "elapsed": 1292,
     "status": "ok",
     "timestamp": 1725990343242,
     "user": {
      "displayName": "Jack Wesley Baker",
      "userId": "04310741851728712835"
     },
     "user_tz": 420
    },
    "id": "jhU1OlAPuePd",
    "outputId": "7e275af3-c7ab-481c-99e0-08221e4171d1"
   },
   "outputs": [],
   "source": "fig, ax1 = plt.subplots()\nax2 = ax1.twinx()\nax1.plot(x, norm.cdf(np.log(x), np.log(theta_target), beta_im), '-', linewidth=2, color=color_spec[0])\nax1.plot(x, norm.cdf(np.log(x), np.log(theta_target2), beta_im2), '-', linewidth=2, color=color_spec[1])\nax1.plot(x, norm.cdf(np.log(x), np.log(theta_target3), beta_im3), '-', linewidth=2, color=color_spec[2])\nax1.set_ylabel('Probability of failure, P(F | SA=x)')\nax1.set_xlabel('Spectral Acceleration, SA(1 s) [g]')\nax2.plot(x, lambda_im, '--', linewidth=2, color=color_spec[3])\nax2.set_ylim([0, 0.002])\nax2.set_ylabel('Annual exceedance rate, λ(SA>x)')\nfig.legend(['β = ' + str(beta_im), 'β = ' + str(beta_im2), 'β = ' + str(beta_im3), 'Ground-motion hazard'], loc='lower right', bbox_to_anchor=(0.9, 0.15))\nax1.set_xlim([0, 1])\nplt.show()"
  }
 ],
 "metadata": {
  "colab": {
   "provenance": []
  },
  "kernelspec": {
   "display_name": "Python 3",
   "name": "python3"
  },
  "language_info": {
   "name": "python"
  }
 },
 "nbformat": 4,
 "nbformat_minor": 0
}