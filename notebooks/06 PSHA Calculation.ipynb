{
 "cells": [
  {
   "cell_type": "markdown",
   "metadata": {},
   "source": [
    "# The PSHA Calculation"
   ]
  },
  {
   "cell_type": "markdown",
   "metadata": {},
   "source": [
    "[![Open In Colab](https://colab.research.google.com/assets/colab-badge.svg)](https://colab.research.google.com/github/bakerjw/shra-jupyter/blob/main/notebooks/06%20PSHA%20Calculation.ipynb)"
   ]
  },
  {
   "cell_type": "code",
   "execution_count": 7,
   "metadata": {
    "executionInfo": {
     "elapsed": 1209,
     "status": "ok",
     "timestamp": 1725990398055,
     "user": {
      "displayName": "Jack Wesley Baker",
      "userId": "04310741851728712835"
     },
     "user_tz": 420
    },
    "id": "AQcN5-tYvzcK"
   },
   "outputs": [],
   "source": [
    "import numpy as np\n",
    "from scipy.stats import norm\n",
    "import matplotlib.pyplot as plt\n",
    "from scipy.interpolate import interp1d"
   ]
  },
  {
   "cell_type": "markdown",
   "metadata": {
    "id": "qOWVaZ0mACsn"
   },
   "source": [
    "### Import GMM_Functions from local src directory"
   ]
  },
  {
   "cell_type": "code",
   "execution_count": 8,
   "metadata": {
    "colab": {
     "base_uri": "https://localhost:8080/"
    },
    "executionInfo": {
     "elapsed": 913,
     "status": "ok",
     "timestamp": 1725990398962,
     "user": {
      "displayName": "Jack Wesley Baker",
      "userId": "04310741851728712835"
     },
     "user_tz": 420
    },
    "id": "Ai-kK4FbNGWJ",
    "outputId": "a6f3ff8e-8d40-4a49-8291-69f356120959"
   },
   "outputs": [],
   "source": [
    "import sys\n",
    "sys.path.append('../src')\n",
    "import GMM_Functions as f"
   ]
  },
  {
   "cell_type": "markdown",
   "metadata": {
    "id": "Pf7YvcfuhPZj"
   },
   "source": [
    "## Example from Section 6.3.3"
   ]
  },
  {
   "cell_type": "markdown",
   "metadata": {
    "id": "1alxkz1wvghH"
   },
   "source": [
    "### Specify a gound-motion intensity measure (IM) and values of interest"
   ]
  },
  {
   "cell_type": "code",
   "execution_count": 9,
   "metadata": {
    "executionInfo": {
     "elapsed": 5,
     "status": "ok",
     "timestamp": 1725990398962,
     "user": {
      "displayName": "Jack Wesley Baker",
      "userId": "04310741851728712835"
     },
     "user_tz": 420
    },
    "id": "JRUTKUJ7vpFx"
   },
   "outputs": [],
   "source": [
    "T = 1 # SA period of interest\n",
    "x = np.logspace(np.log10(0.001), np.log10(2), 100)  # IM values to consider"
   ]
  },
  {
   "cell_type": "markdown",
   "metadata": {
    "id": "N7WVl1nowHKv"
   },
   "source": [
    "### Specify properties to predict ground-motion intensity"
   ]
  },
  {
   "cell_type": "code",
   "execution_count": 10,
   "metadata": {
    "executionInfo": {
     "elapsed": 4,
     "status": "ok",
     "timestamp": 1725990398962,
     "user": {
      "displayName": "Jack Wesley Baker",
      "userId": "04310741851728712835"
     },
     "user_tz": 420
    },
    "id": "uGXiQU02vyvY"
   },
   "outputs": [],
   "source": [
    "# Define combine rupture and site parameters into a dictionary\n",
    "R = 10 # Horizontal distance from top of rupture measured perpendicular to fault strike (km)\n",
    "Rrup = R # Closest distance (km) to the rupture plane\n",
    "Rjb = R # Joyner-Boore distance (km); closest distance (km) to surface projection of rupture plane\n",
    "rup = {\n",
    "    'Fault_Type': 1,  # 1 is strike slip\n",
    "    'Vs30': 500, # Shear wave velocity averaged over top 30 m in m/s\n",
    "    'R': 10,\n",
    "    'Ztor': 0, # Rupture depth\n",
    "    'delta': 90, # The angle between the fault and a horizontal plane (90 = vertical fault)\n",
    "    'rupLambda': 0, # The direction a hanging wall block moves during rupture (0 means left lateral motion of the hanging wall relative to the footwall)\n",
    "    'Z10': 999, # Basin depth (km); depth from the groundsurface to the 1 km/s shear wave horizon\n",
    "    'Fhw': 0, # Hanging wall flag (=1 for hanging wall, = 0 for foot wall)\n",
    "    'FVS30': 0, # 0 for Vs30 is inferred from geology, 1 for measured Vs30,\n",
    "    'region': 1, # 0 for global (incl. Taiwan), 1 for California, 2 for Japan, 3 for China, 4 for Italy , 5 for Turkey\n",
    "    }"
   ]
  },
  {
   "cell_type": "markdown",
   "metadata": {
    "id": "t-fCYZsN3cAl"
   },
   "source": [
    "## 3. Compute the locations, characteristics, and occurrence rates of all rupture scenarios capable of producing damaging ground motions"
   ]
  },
  {
   "cell_type": "markdown",
   "metadata": {
    "id": "tinzlrwI4xef"
   },
   "source": [
    "### Gutenberg-Richter Distribution"
   ]
  },
  {
   "cell_type": "markdown",
   "metadata": {
    "id": "GoVPQQWE5pYC"
   },
   "source": [
    "Annual rate of exceedance for the bounded Gutenberg-Richter distribution is:\n",
    "\n",
    "$$ λ(M≥m) = λ(M≥m_{min})(1-F_M(m)) $$"
   ]
  },
  {
   "cell_type": "code",
   "execution_count": 11,
   "metadata": {},
   "outputs": [],
   "source": [
    "b = 1\n",
    "m_min = 5\n",
    "m_max = 8\n",
    "min_rate = 0.05\n",
    "delta_m = 0.2 # magnitude discretization interval"
   ]
  },
  {
   "cell_type": "code",
   "execution_count": 5,
   "metadata": {
    "colab": {
     "base_uri": "https://localhost:8080/"
    },
    "executionInfo": {
     "elapsed": 498,
     "status": "ok",
     "timestamp": 1725990399456,
     "user": {
      "displayName": "Jack Wesley Baker",
      "userId": "04310741851728712835"
     },
     "user_tz": 420
    },
    "id": "fqBP8k_08Qgm",
    "outputId": "d1ea7643-2960-4826-d014-390cf91a16c0"
   },
   "outputs": [
    {
     "name": "stdout",
     "output_type": "stream",
     "text": [
      "[5.1 5.3 5.5 5.7 5.9 6.1 6.3 6.5 6.7 6.9 7.1 7.3 7.5 7.7 7.9]\n"
     ]
    }
   ],
   "source": [
    "# Make a discretized list of potential earthquake magnitudes\n",
    "m_range = list(np.arange(m_min,m_max+delta_m, delta_m))\n",
    "\n",
    "# compute mid-points of the discretized intervals, m_vals \n",
    "m_vals_list = []\n",
    "for index, elem in enumerate(m_range):\n",
    "    if index == len(m_range)-1:\n",
    "      break\n",
    "    mid = (m_range[index] + m_range[index+1])/2\n",
    "    m_vals_list.append(mid)\n",
    "m_vals = np.array(m_vals_list)\n",
    "print(m_vals)"
   ]
  },
  {
   "cell_type": "code",
   "execution_count": null,
   "metadata": {
    "colab": {
     "base_uri": "https://localhost:8080/"
    },
    "executionInfo": {
     "elapsed": 15,
     "status": "ok",
     "timestamp": 1725990399457,
     "user": {
      "displayName": "Jack Wesley Baker",
      "userId": "04310741851728712835"
     },
     "user_tz": 420
    },
    "id": "axMUUMFZ_Owd",
    "outputId": "6e7d00b0-6e7f-4712-f674-fd37783dee46"
   },
   "outputs": [
    {
     "name": "stdout",
     "output_type": "stream",
     "text": [
      "[np.float64(0.05), np.float64(0.03152939662063028), np.float64(0.01987523376143628), np.float64(0.012521954111659545), np.float64(0.007882348310616167), np.float64(0.004954954954954943), np.float64(0.0031078946170179757), np.float64(0.001942478331098574), np.float64(0.0012071503661209072), np.float64(0.0007431897860165738), np.float64(0.00045045045045044585), np.float64(0.0002657444166567491), np.float64(0.0001492027880648117), np.float64(7.566999156704558e-05), np.float64(2.9273933556611677e-05)]\n"
     ]
    }
   ],
   "source": [
    "beta = np.log(10) * b\n",
    "\n",
    "lambda_m = []\n",
    "for m in m_range:\n",
    "  fm = (1 - np.exp(-beta*(m - m_min)))/(1-np.exp(-beta*(m_max-m_min)))\n",
    "  lambda_m.append(min_rate * (1-fm))\n",
    "lambda_m.pop()\n",
    "\n",
    "# Rate of exceedance\n",
    "print(lambda_m)"
   ]
  },
  {
   "cell_type": "markdown",
   "metadata": {
    "id": "emXhrURhdejf"
   },
   "source": [
    "## 4) Predict the resulting distribution of ground-motion intensity as a function of the site characteristics and each rupture scenario’s properties (Chapters 4 and 5) & 5) Consider all possible ruptures, and uncertainty in resulting ground-motion intensity (Figure 6.1 and Equation 6.1)."
   ]
  },
  {
   "cell_type": "code",
   "execution_count": null,
   "metadata": {
    "executionInfo": {
     "elapsed": 12,
     "status": "ok",
     "timestamp": 1725990399457,
     "user": {
      "displayName": "Jack Wesley Baker",
      "userId": "04310741851728712835"
     },
     "user_tz": 420
    },
    "id": "pp5Au4lKddDI"
   },
   "outputs": [],
   "source": [
    "# Compute PSHA, with rupture rates for each M precomputed\n",
    "\n",
    "# Created by Jack Baker\n",
    "# Translated by AI\n",
    "\n",
    "# INPUTS\n",
    "# lambda_m      exceedance rate of EQs for each M\n",
    "# m_vals        values of M corresponding to lambda_m\n",
    "# x             IM values of interest\n",
    "# x_example     example IM value for table\n",
    "# rup           data structure with rupture and site parameters\n",
    "# gmpe_flag      =1 for BJF97, =2 for CY14\n",
    "\n",
    "def fn_psha_given_m_lambda(lambda_m, m_vals, t, x, x_example, rup, gmpe_flag):\n",
    "    # Compute PSHA, with rupture rates for each M precomputed\n",
    "\n",
    "    # Find occurrence rates from exceedance rates\n",
    "    lambda_occur = np.concatenate((np.diff(lambda_m) * -1, [lambda_m[-1]]))\n",
    "\n",
    "    # Initialize dictionaries for results\n",
    "    lambda_result = {'x': [], 'example': []}\n",
    "    disagg = {'all': np.zeros((len(x), len(m_vals)))}\n",
    "\n",
    "    # p(exceeding each x threshold value | M)\n",
    "    for j in range(len(x)):\n",
    "        p_given_m = np.zeros(len(m_vals))\n",
    "        for i in range(len(m_vals)):\n",
    "            sa, sigma = f.gmm_eval(t, m_vals[i], rup, gmpe_flag)\n",
    "            p_given_m[i] = 1 - norm.cdf(np.log(x[j]), np.log(sa), sigma)\n",
    "\n",
    "        lambda_result['x'].append(np.sum(lambda_occur * p_given_m))\n",
    "        disagg['all'][j, :] = (lambda_occur * p_given_m) / lambda_result['x'][j]\n",
    "\n",
    "    # calcs for example IM case\n",
    "    p_ex = np.zeros(len(m_vals))\n",
    "    for i in range(len(m_vals)):\n",
    "        sa, sigma = f.gmm_eval(t, m_vals[i], rup, gmpe_flag)\n",
    "        p_ex[i] = 1 - norm.cdf(np.log(x_example), np.log(sa), sigma)\n",
    "\n",
    "    example_output = np.column_stack((np.arange(1, len(m_vals)+1), m_vals, lambda_occur, p_ex, lambda_occur * p_ex))\n",
    "    lambda_result['example'].append(np.sum(lambda_occur * p_ex))\n",
    "    disagg['example'] = (lambda_occur * p_ex) / lambda_result['example']\n",
    "    disagg['m_bar'] = np.sum(m_vals * disagg['example'])\n",
    "\n",
    "    # disagg conditional on occurrence for example IM case\n",
    "    x_inc = x_example * 1.02  # do computations at an increment on x\n",
    "    p_inc = np.zeros(len(m_vals))\n",
    "    for i in range(len(m_vals)):\n",
    "        sa, sigma = f.gmm_eval(t, m_vals[i], rup, gmpe_flag)\n",
    "        p_inc[i] = 1 - norm.cdf(np.log(x_inc), np.log(sa), sigma)\n",
    "    lambda_inc = np.sum(lambda_occur * p_inc)\n",
    "    disagg['equal'] = ((lambda_occur * p_ex) - (lambda_occur * p_inc)) / (lambda_result['example'] - lambda_inc)\n",
    "    disagg['equal_m_bar'] = np.sum(m_vals * disagg['equal'])\n",
    "\n",
    "    # disaggs with epsilon\n",
    "    delta_eps = 1  # final binning\n",
    "    eps_vals = np.arange(-3, 3 + delta_eps, delta_eps)  # epsilon bins\n",
    "\n",
    "    delta_eps_fine = 0.1  # initial finer binning\n",
    "    eps_vals_fine = np.arange(-3.5, 3.5 + delta_eps_fine, delta_eps_fine)  # midpoints of bins\n",
    "    p_eps = norm.pdf(eps_vals_fine) * delta_eps_fine  # estimate PDF using a PMF with discrete epsilon increments\n",
    "    lambda_m_and_eps = np.outer(lambda_occur, p_eps)  # rate of events with a given magnitude and epsilon\n",
    "\n",
    "    ind = np.zeros((len(m_vals), len(eps_vals_fine)), dtype=bool)\n",
    "    for i in range(len(m_vals)):\n",
    "        sa, sigma = f.gmm_eval(t, m_vals[i], rup, gmpe_flag)\n",
    "        ind[i, :] = (np.log(sa) + eps_vals_fine * sigma > np.log(x_example))  # indicator that the M/epsilon value causes IM > x_example\n",
    "    exceed_rates_fine = ind * lambda_m_and_eps  # rates of given M/epsilon values exceeding IM\n",
    "    lambda_exceed = np.sum(exceed_rates_fine)  # this is close to lambda.example, but may differ by a few percent due to epsilon discretization\n",
    "\n",
    "    # compute mean epsilon\n",
    "    eps_deagg = np.sum(exceed_rates_fine, axis=0) / np.sum(exceed_rates_fine)\n",
    "    disagg['eps_bar'] = np.sum(eps_vals_fine * eps_deagg)\n",
    "\n",
    "    # aggregate results to coarser epsilon bins\n",
    "    exceed_rates = np.zeros((len(m_vals), len(eps_vals)))\n",
    "    for j in range(len(eps_vals)):\n",
    "        idx = (eps_vals_fine >= (eps_vals[j] - delta_eps / 2)) & (eps_vals_fine < (eps_vals[j] + delta_eps / 2))\n",
    "        exceed_rates[:, j] = np.sum(exceed_rates_fine[:, idx], axis=1)\n",
    "\n",
    "    disagg['eps_vals'] = eps_vals  # return bin midpoints\n",
    "    disagg['m_eps'] = exceed_rates / lambda_exceed  # magnitude and epsilon disaggregation\n",
    "    disagg['eps'] = np.sum(exceed_rates, axis=0) / lambda_exceed  # epsilon disaggregation\n",
    "\n",
    "    disagg['equal_m_bar'] = np.sum(m_vals * disagg['equal'])\n",
    "\n",
    "    return lambda_result, example_output, disagg"
   ]
  },
  {
   "cell_type": "code",
   "execution_count": null,
   "metadata": {
    "executionInfo": {
     "elapsed": 2700,
     "status": "ok",
     "timestamp": 1725990402145,
     "user": {
      "displayName": "Jack Wesley Baker",
      "userId": "04310741851728712835"
     },
     "user_tz": 420
    },
    "id": "hjuyoUDw304Q"
   },
   "outputs": [],
   "source": [
    "x_example = 0.2  # example values for table\n",
    "gmpe_flag = 1\n",
    "# Compute the PSHA given M and lambda\n",
    "lambda_, example_output, disagg = fn_psha_given_m_lambda(lambda_m, m_vals, T, x, x_example, rup, gmpe_flag)\n",
    "\n",
    "x_example2 = 0.5  # output results for a second threshold\n",
    "lambda2, example_output2, disagg2 = fn_psha_given_m_lambda(lambda_m, m_vals, T, x, x_example2, rup, gmpe_flag)"
   ]
  },
  {
   "cell_type": "markdown",
   "metadata": {
    "id": "zdHl9KXGBFTD"
   },
   "source": [
    "## PLOTS"
   ]
  },
  {
   "cell_type": "code",
   "execution_count": null,
   "metadata": {
    "executionInfo": {
     "elapsed": 14,
     "status": "ok",
     "timestamp": 1725990402146,
     "user": {
      "displayName": "Jack Wesley Baker",
      "userId": "04310741851728712835"
     },
     "user_tz": 420
    },
    "id": "bCU1Y2hDbNFo"
   },
   "outputs": [],
   "source": [
    "# Plot set up\n",
    "plt.close('all')\n",
    "plt.rcParams.update({'font.size': 12})\n",
    "color_spec = [\n",
    "    [56 / 255, 95 / 255, 150 / 255],\n",
    "    [207 / 255, 89 / 255, 33 / 255],\n",
    "    [158 / 255, 184 / 255, 219 / 255],\n",
    "]\n",
    "\n",
    "# Plotting parameters\n",
    "figure_axis_limits = [0.05, max(x), 1 / 0.99e-5, 1e-1]\n",
    "figure_x_tick_vals = [0.05, 0.1, 0.5, 1, 2]\n",
    "\n",
    "im_label = 'SA(1 s)'\n",
    "axis_label = 'Spectral Acceleration, SA(1 s) [g]'"
   ]
  },
  {
   "cell_type": "code",
   "execution_count": null,
   "metadata": {
    "colab": {
     "base_uri": "https://localhost:8080/",
     "height": 457
    },
    "executionInfo": {
     "elapsed": 1261,
     "status": "ok",
     "timestamp": 1725990464121,
     "user": {
      "displayName": "Jack Wesley Baker",
      "userId": "04310741851728712835"
     },
     "user_tz": 420
    },
    "id": "305aOlKwZpMl",
    "outputId": "bef15212-b33b-4682-e728-0dfb01f73b41"
   },
   "outputs": [],
   "source": [
    "# Hazard curve plot\n",
    "fig, ax = plt.subplots()\n",
    "ax.loglog(x, lambda_['x'], '-', linewidth=2, color=color_spec[0])\n",
    "ax.plot(x_example, lambda_['example'], 'o', color=color_spec[0])\n",
    "ax.plot(x_example2, lambda2['example'], 'o', color=color_spec[0])\n",
    "\n",
    "# Annotate text results for example cases\n",
    "text1 = f\"$\\lambda$({im_label} > {x_example} g) = {lambda_['example'][0]:.3g}\"\n",
    "text2 = f\"$\\lambda$({im_label} > {x_example2} g) = {lambda2['example'][0]:.3g}\"\n",
    "ax.text(x_example * 1.1, lambda_['example'][0] * 1.2, text1, fontsize=8)\n",
    "ax.text(x_example2 * 1.1, lambda2['example'][0] * 1.2, text2, fontsize=8)\n",
    "\n",
    "plt.xlabel(axis_label)\n",
    "plt.ylabel('Annual rate of exceedance, $\\lambda$')\n",
    "ax.set_xscale('log')\n",
    "plt.xlim([0.05, 2])\n",
    "plt.xticks([0.05, 0.1, 0.5, 1,  2], ['0.05', '0.1', '0.5', '1', '2'])\n",
    "\n",
    "\n",
    "plt.show()"
   ]
  },
  {
   "cell_type": "code",
   "execution_count": null,
   "metadata": {
    "executionInfo": {
     "elapsed": 7,
     "status": "ok",
     "timestamp": 1725990405592,
     "user": {
      "displayName": "Jack Wesley Baker",
      "userId": "04310741851728712835"
     },
     "user_tz": 420
    },
    "id": "hl0CUS6i_w1F"
   },
   "outputs": [],
   "source": [
    "# Output a subset of the hazard curve for use in a table\n",
    "im_small = np.array([1e-3] + list(np.arange(0.1, 1.1, 0.1)))\n",
    "rates_small = np.exp(interp1d(np.log(x), np.log(lambda_['x']), kind='linear', fill_value='extrapolate')(np.log(im_small)))\n",
    "haz_table = np.column_stack((im_small, rates_small))"
   ]
  },
  {
   "cell_type": "code",
   "execution_count": null,
   "metadata": {
    "colab": {
     "base_uri": "https://localhost:8080/",
     "height": 601
    },
    "executionInfo": {
     "elapsed": 2943,
     "status": "ok",
     "timestamp": 1725990408529,
     "user": {
      "displayName": "Jack Wesley Baker",
      "userId": "04310741851728712835"
     },
     "user_tz": 420
    },
    "id": "wSqWCYHl_ymS",
    "outputId": "a3fbd18f-174d-4687-985e-a2c41aa3520a"
   },
   "outputs": [],
   "source": [
    "# Disaggregation plot\n",
    "plt.figure(figsize=(10, 6))\n",
    "plt.subplot(1, 2, 1)\n",
    "plt.bar(m_vals, disagg['example'], width=0.2, color=color_spec[2], edgecolor='black')\n",
    "plt.plot([disagg['m_bar'], disagg['m_bar']], [0, 1], ':k', linewidth=2)\n",
    "plt.xlabel('Magnitude, M')\n",
    "plt.ylabel(f'P(m | {im_label} > {x_example} g)')\n",
    "plt.axis([5, 8, 0, 0.2])\n",
    "\n",
    "plt.subplot(1, 2, 2)\n",
    "plt.bar(m_vals, disagg2['example'], width=0.2, color=color_spec[2], edgecolor='black')\n",
    "plt.plot([disagg2['m_bar'], disagg2['m_bar']], [0, 1], ':k', linewidth=2)\n",
    "plt.xlabel('Magnitude, M')\n",
    "plt.ylabel(f'P(m | {im_label} > {x_example2} g)')\n",
    "# plt.axis([5, 8, 0, 0.2])\n",
    "plt.ylim([0, 0.2])\n",
    "plt.xlim([4,8])\n",
    "\n",
    "plt.tight_layout()"
   ]
  },
  {
   "cell_type": "code",
   "execution_count": null,
   "metadata": {
    "executionInfo": {
     "elapsed": 8,
     "status": "ok",
     "timestamp": 1725990408529,
     "user": {
      "displayName": "Jack Wesley Baker",
      "userId": "04310741851728712835"
     },
     "user_tz": 420
    },
    "id": "foblqStF__o3"
   },
   "outputs": [],
   "source": [
    "m_bar = [disagg['m_bar'], disagg2['m_bar']]\n",
    "\n",
    "# Tabulate output\n",
    "disagg_table = np.column_stack((m_vals, disagg['example'], disagg2['example']))\n",
    "\n",
    "# Metrics to evaluate calculations and figure\n",
    "# Interpolate IM with given rate\n",
    "rate_targ = 1 / 1000\n",
    "im_targ = np.exp(interp1d(np.log(rates_small), np.log(im_small), kind='linear', fill_value='extrapolate')(np.log(rate_targ)))\n",
    "\n",
    "# Manual log interpolation\n",
    "ln_im_manual = ((np.log(0.2) - np.log(0.3)) * (np.log(1E-3) - np.log(6.81E-4))) / (np.log(2.7E-3) - np.log(6.81E-4)) + np.log(0.3)\n",
    "im_manual = np.exp(ln_im_manual)\n",
    "\n",
    "# Hazard curves slope\n",
    "im_slope = [0.2, 0.3]\n",
    "rate_slope = np.exp(interp1d(np.log(x), np.log(lambda_['x']), kind='linear', fill_value='extrapolate')(np.log(im_slope)))\n",
    "k_est = - (np.log(rate_slope[0]) - np.log(rate_slope[1])) / (np.log(im_slope[0]) - np.log(im_slope[1]))\n",
    "k0_est = rate_slope[0] / np.exp(-k_est * np.log(im_slope[0]))\n",
    "lambda_power_law = k0_est * np.exp(-k_est * np.log(x))\n",
    "\n",
    "# Hazard curve derivative\n",
    "d_lambda = -np.diff(np.concatenate((rates_small, [0])))"
   ]
  },
  {
   "cell_type": "code",
   "execution_count": null,
   "metadata": {
    "colab": {
     "base_uri": "https://localhost:8080/",
     "height": 601
    },
    "executionInfo": {
     "elapsed": 2417,
     "status": "ok",
     "timestamp": 1725990410938,
     "user": {
      "displayName": "Jack Wesley Baker",
      "userId": "04310741851728712835"
     },
     "user_tz": 420
    },
    "id": "RmViQYbyADR2",
    "outputId": "e65b54fc-d3b7-4ad0-d3ff-8d9c24da810b"
   },
   "outputs": [],
   "source": [
    "plt.figure(figsize=(10, 6))\n",
    "plt.subplot(1, 2, 1)\n",
    "plt.bar(im_small + 0.05, d_lambda, width=0.10, color=color_spec[2], edgecolor='black')\n",
    "plt.axis([0, 1, 0, 0.05])\n",
    "# plt.text(-0.1, -0.07, '(a)', transform=plt.gca().transAxes, verticalalignment='center')\n",
    "plt.xlabel(axis_label)\n",
    "plt.ylabel('$\\Delta \\lambda_i$')\n",
    "\n",
    "plt.subplot(1, 2, 2)\n",
    "x_fine = np.arange(0.01, 1.01, 0.01)\n",
    "lambda_fine = np.exp(interp1d(np.log(x), np.log(lambda_['x']), kind='linear', fill_value='extrapolate')(np.log(x_fine)))\n",
    "d_lambda_fine = -np.diff(np.concatenate((lambda_fine, [0])))\n",
    "plt.bar(x_fine + 0.005, d_lambda_fine, width=0.008, color=color_spec[2],edgecolor='black')\n",
    "plt.axis([0, 1, 0, 0.008])\n",
    "plt.xlabel(axis_label)\n",
    "plt.ylabel('$\\Delta \\lambda_i$')\n",
    "\n",
    "plt.tight_layout()"
   ]
  },
  {
   "cell_type": "code",
   "execution_count": null,
   "metadata": {
    "colab": {
     "base_uri": "https://localhost:8080/",
     "height": 465
    },
    "executionInfo": {
     "elapsed": 1487,
     "status": "ok",
     "timestamp": 1725990513590,
     "user": {
      "displayName": "Jack Wesley Baker",
      "userId": "04310741851728712835"
     },
     "user_tz": 420
    },
    "id": "nSPf0M7IBIac",
    "outputId": "0336d52b-12cd-43f1-c4df-7f825f9e897d"
   },
   "outputs": [],
   "source": [
    "# Summary plot\n",
    "plt.figure()\n",
    "h1 = plt.loglog(x, lambda_['x'], '-', linewidth=2, color=color_spec[0], label='Original hazard curve')\n",
    "plt.plot(im_targ, rate_targ, 'ok')\n",
    "h2 = plt.plot(x, lambda_power_law, '-', linewidth=2, color=color_spec[2], label='Fitted power-law hazard curve')\n",
    "plt.plot([0.01, im_targ, im_targ], [rate_targ, rate_targ, 1e-10], ':k', linewidth=1)\n",
    "plt.text(im_targ * 1.05, rate_targ * 1.5, f'$\\lambda$({im_label} > {im_targ:.3g} g) = {rate_targ:.3g}')\n",
    "plt.text(0.01 * 1.05, lambda_m[0] * 1.25, f'$\\Sigma_i \\lambda(rup_i)$ = {lambda_m[0]}')\n",
    "\n",
    "plt.legend(handles=[h1[0], h2[0]])\n",
    "plt.xlabel(axis_label)\n",
    "plt.ylabel('Annual rate of exceedance, $\\lambda$')\n",
    "plt.xlim([0.01,2])\n",
    "plt.ylim([10e-6,10e-2])\n",
    "plt.xticks([0.05, 0.1, 0.5, 1, 2], ['0.05', '0.1', '0.5', '1', '2'])\n",
    "plt.show()"
   ]
  }
 ],
 "metadata": {
  "colab": {
   "provenance": []
  },
  "kernelspec": {
   "display_name": "JupyterBook2",
   "language": "python",
   "name": "python3"
  },
  "language_info": {
   "codemirror_mode": {
    "name": "ipython",
    "version": 3
   },
   "file_extension": ".py",
   "mimetype": "text/x-python",
   "name": "python",
   "nbconvert_exporter": "python",
   "pygments_lexer": "ipython3",
   "version": "3.11.13"
  }
 },
 "nbformat": 4,
 "nbformat_minor": 0
}
