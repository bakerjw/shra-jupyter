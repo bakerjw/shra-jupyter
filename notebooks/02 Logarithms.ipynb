{
 "cells": [
  {
   "cell_type": "markdown",
   "id": "8ff67e1e",
   "metadata": {},
   "source": [
    "# Logarithms: Basic concepts and use for hazard and risk calculations"
   ]
  },
  {
   "cell_type": "markdown",
   "id": "k2dp829l4z",
   "metadata": {},
   "source": [
    "[![Open In Colab](https://colab.research.google.com/assets/colab-badge.svg)](https://colab.research.google.com/github/bakerjw/shra-jupyter/blob/main/notebooks/02%20Logarithms.ipynb)"
   ]
  },
  {
   "cell_type": "code",
   "execution_count": 2,
   "id": "a6bb2461",
   "metadata": {},
   "outputs": [],
   "source": [
    "import numpy as np\n",
    "import matplotlib.pyplot as plt\n",
    "from matplotlib import rcParams"
   ]
  },
  {
   "cell_type": "markdown",
   "id": "98f80e42",
   "metadata": {},
   "source": [
    "## Define color specifications"
   ]
  },
  {
   "cell_type": "code",
   "execution_count": null,
   "id": "ac1478ea",
   "metadata": {},
   "outputs": [],
   "source": [
    "color_spec = [\n",
    "    np.array([56, 95, 150])/255,  # First color (blue)\n",
    "    np.array([207, 89, 33])/255   # Second color (orange)\n",
    "]"
   ]
  },
  {
   "cell_type": "markdown",
   "id": "f72875df",
   "metadata": {},
   "source": [
    "## Create x values and compute exponentials"
   ]
  },
  {
   "cell_type": "code",
   "execution_count": null,
   "id": "3fc89b72",
   "metadata": {},
   "outputs": [],
   "source": [
    "x = np.arange(-1, 1.1, 0.1)\n",
    "e_x = np.exp(x)\n",
    "ten_x = 10**x\n",
    "\n",
    "def format_figure():\n",
    "    plt.grid(True, linestyle='--', alpha=0.7)\n",
    "    plt.tight_layout()"
   ]
  },
  {
   "cell_type": "markdown",
   "id": "72048830",
   "metadata": {},
   "source": [
    "## Exponentials on semilogy plot"
   ]
  },
  {
   "cell_type": "code",
   "execution_count": null,
   "id": "2b21f66f",
   "metadata": {},
   "outputs": [],
   "source": [
    "plt.figure()\n",
    "plt.semilogy(x, e_x, color=color_spec[0], linewidth=2, label='$e^x$')\n",
    "plt.semilogy(x, ten_x, color=color_spec[1], linewidth=2, label='$10^x$')\n",
    "yl = plt.ylim()\n",
    "plt.plot([0, 0], yl, '-k')  # Vertical line at x=0\n",
    "plt.xlabel('x')\n",
    "plt.legend(loc='upper left')\n",
    "format_figure()\n",
    "plt.title('Exponential Functions (Log Scale)')\n",
    "plt.show()"
   ]
  },
  {
   "cell_type": "markdown",
   "id": "414150d5",
   "metadata": {},
   "source": [
    "## Exponentials on linear plot"
   ]
  },
  {
   "cell_type": "code",
   "execution_count": null,
   "id": "8cf7faf4",
   "metadata": {},
   "outputs": [],
   "source": [
    "plt.figure()\n",
    "plt.plot(x, e_x, color=color_spec[0], linewidth=2, label='$e^x$')\n",
    "plt.plot(x, ten_x, color=color_spec[1], linewidth=2, label='$10^x$')\n",
    "yl = plt.ylim()\n",
    "plt.plot([0, 0], yl, '-k')  # Vertical line at x=0\n",
    "plt.xlabel('x')\n",
    "plt.legend(loc='upper left')\n",
    "format_figure()\n",
    "plt.title('Exponential Functions (Linear Scale)')\n",
    "plt.show()"
   ]
  },
  {
   "cell_type": "markdown",
   "id": "f8dedaa2",
   "metadata": {},
   "source": [
    "## Create x values for logarithms and compute logs"
   ]
  },
  {
   "cell_type": "code",
   "execution_count": null,
   "id": "80535179",
   "metadata": {},
   "outputs": [],
   "source": [
    "x_log = np.arange(0.1, 10.1, 0.1)  # Starting from 0.1 to avoid log(0)\n",
    "ln_x = np.log(x_log)\n",
    "log10_x = np.log10(x_log)"
   ]
  },
  {
   "cell_type": "markdown",
   "id": "f3ac794f",
   "metadata": {},
   "source": [
    "## Logarithms on linear plot"
   ]
  },
  {
   "cell_type": "code",
   "execution_count": null,
   "id": "52541bad",
   "metadata": {},
   "outputs": [],
   "source": [
    "plt.figure()\n",
    "plt.plot(x_log, ln_x, color=color_spec[0], linewidth=2, label='$\\\\ln(x)$')\n",
    "plt.plot(x_log, log10_x, color=color_spec[1], linewidth=2, label='$\\\\log_{10}(x)$')\n",
    "plt.plot(x_log, np.zeros_like(x_log), '-k')  # Horizontal line at y=0\n",
    "plt.xlabel('x')\n",
    "plt.legend(loc='upper left')\n",
    "format_figure()\n",
    "plt.show()"
   ]
  },
  {
   "cell_type": "markdown",
   "id": "475bca0f",
   "metadata": {},
   "source": [
    "## Logarithms on semilogx plot"
   ]
  },
  {
   "cell_type": "code",
   "execution_count": null,
   "id": "e7beee2b",
   "metadata": {},
   "outputs": [],
   "source": [
    "plt.figure()\n",
    "plt.semilogx(x_log, ln_x, color=color_spec[0], linewidth=2, label='$\\\\ln(x)$')\n",
    "plt.semilogx(x_log, log10_x, color=color_spec[1], linewidth=2, label='$\\\\log_{10}(x)$')\n",
    "plt.semilogx(x_log, np.zeros_like(x_log), '-k')  # Horizontal line at y=0\n",
    "plt.xlabel('x')\n",
    "plt.legend(loc='upper left')\n",
    "format_figure()\n",
    "plt.show()"
   ]
  }
 ],
 "metadata": {
  "kernelspec": {
   "display_name": "JupyterBook2",
   "language": "python",
   "name": "python3"
  },
  "language_info": {
   "codemirror_mode": {
    "name": "ipython",
    "version": 3
   },
   "file_extension": ".py",
   "mimetype": "text/x-python",
   "name": "python",
   "nbconvert_exporter": "python",
   "pygments_lexer": "ipython3",
   "version": "3.11.13"
  }
 },
 "nbformat": 4,
 "nbformat_minor": 5
}
