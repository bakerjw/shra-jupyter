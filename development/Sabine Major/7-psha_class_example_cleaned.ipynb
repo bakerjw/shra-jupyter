{
 "cells": [
  {
   "cell_type": "markdown",
   "metadata": {
    "id": "AWpPB6nriDZN"
   },
   "source": [
    "**Probabilistic Seismic Hazard Analysis  \n",
    "Sample Calculation In Class  \n",
    "Major Zeng, University of Michigan**"
   ]
  },
  {
   "cell_type": "code",
   "execution_count": 1,
   "metadata": {
    "id": "dOnA5xjYiDZP"
   },
   "outputs": [],
   "source": [
    "import numpy as np\n",
    "import pandas as pd\n",
    "import matplotlib.pyplot as plt\n",
    "import scipy"
   ]
  },
  {
   "cell_type": "markdown",
   "metadata": {
    "tags": []
   },
   "source": [
    "#### Method 1: Numerical Integration / Discretization"
   ]
  },
  {
   "cell_type": "markdown",
   "metadata": {},
   "source": [
    "Step 1: Discretize Magnitude Range"
   ]
  },
  {
   "cell_type": "code",
   "execution_count": null,
   "metadata": {
    "id": "NKHfnn2AiDZR"
   },
   "outputs": [],
   "source": [
    "# For Fault A\n",
    "# Minimum Considered Magnitude\n",
    "M0 = 5 \n",
    "# Maximum Considered Magnutyde\n",
    "Mu = 7.5  \n",
    "# Size of Magnitude Bin\n",
    "del_M = 0.1\n",
    "# Discretized Range of Magnitudes\n",
    "Mi = np.arange(M0, Mu+del_M, del_M)"
   ]
  },
  {
   "cell_type": "code",
   "execution_count": null,
   "metadata": {},
   "outputs": [],
   "source": [
    "Mi"
   ]
  },
  {
   "cell_type": "markdown",
   "metadata": {},
   "source": [
    "Step 2: Calculate the rate of earthquakes of magnitude Mi"
   ]
  },
  {
   "cell_type": "code",
   "execution_count": null,
   "metadata": {},
   "outputs": [],
   "source": [
    "# Occurance Model Parameterss\n",
    "a = 5\n",
    "b = 1\n",
    "# Rate of Events with M > Upper Bound of Magnitude Bin\n",
    "Lambda_u = 10**(a - b * (Mi + del_M/2))\n",
    "# Rate of Events with M > Lower Bound of Magnitude Bin\n",
    "Lambda_0 = 10**(a - b * (Mi - del_M/2))\n",
    "# Rate of Events within the Magnitude Bin\n",
    "Lambda_bin = Lambda_0 - Lambda_u"
   ]
  },
  {
   "cell_type": "code",
   "execution_count": null,
   "metadata": {},
   "outputs": [],
   "source": [
    "Lambda_bin"
   ]
  },
  {
   "cell_type": "markdown",
   "metadata": {},
   "source": [
    "Now we have a Stochastic Event Table"
   ]
  },
  {
   "cell_type": "code",
   "execution_count": null,
   "metadata": {},
   "outputs": [],
   "source": [
    "# Create Stochastic Event Table\n",
    "data = {\n",
    "    \"Event ID\": [f\"EQ{str(i+1).zfill(3)}\" for i in range(len(Mi))],\n",
    "    \"Source\": [\"Fault A\"] * len(Mi),\n",
    "    \"Size (Mw)\": [f\"[{M-del_M/2:.2f}, {M+del_M/2:.2f}]\" for M in Mi],\n",
    "    \"Rate (λ)\": Lambda_bin\n",
    "}\n",
    "df_event = pd.DataFrame(data)\n",
    "\n",
    "# Display \n",
    "df_event"
   ]
  },
  {
   "cell_type": "markdown",
   "metadata": {},
   "source": [
    "Step 3: Calculate Site Event Intensity"
   ]
  },
  {
   "cell_type": "code",
   "execution_count": null,
   "metadata": {},
   "outputs": [],
   "source": [
    "# Function for GMPE\n",
    "def GMPE_BJF97_SA1(Mag, Dis, Vs30):\n",
    "    Mu_lnIM = -3.4415 + 1.42*Mag - 0.032*Mag**2 - 0.798*np.log((Dis**2+8.41)**0.5)-0.698*np.log(Vs30)\n",
    "    Sigma_lnIM = 0.52\n",
    "    return Mu_lnIM, Sigma_lnIM "
   ]
  },
  {
   "cell_type": "code",
   "execution_count": null,
   "metadata": {},
   "outputs": [],
   "source": [
    "# Distance from Source to Site\n",
    "Dis = 10\n",
    "# Site Soil Condition Paramter\n",
    "Vs30 = 400\n",
    "# Mean of IM in Log Space\n",
    "Mu_lnIM = [ GMPE_BJF97_SA1(M, Dis, Vs30)[0] for M in Mi]\n",
    "# Std of IM in Log Space\n",
    "Sigma_lnIM = [ GMPE_BJF97_SA1(M, Dis, Vs30)[1] for M in Mi]"
   ]
  },
  {
   "cell_type": "code",
   "execution_count": null,
   "metadata": {},
   "outputs": [],
   "source": [
    "# Create DataFrame\n",
    "df = pd.DataFrame({\n",
    "    'Magnitude': Mi,\n",
    "    'LogMeanIM': Mu_lnIM,\n",
    "    'LogStdIM': Sigma_lnIM\n",
    "})\n",
    "df"
   ]
  },
  {
   "cell_type": "markdown",
   "metadata": {},
   "source": [
    "Step 4:"
   ]
  },
  {
   "cell_type": "code",
   "execution_count": null,
   "metadata": {},
   "outputs": [],
   "source": [
    "# Discretize range of relevant intensity\n",
    "del_IM = 0.1\n",
    "Target_IM = np.arange(0.1, 3, del_IM)"
   ]
  },
  {
   "cell_type": "code",
   "execution_count": null,
   "metadata": {},
   "outputs": [],
   "source": [
    "Target_IM"
   ]
  },
  {
   "cell_type": "code",
   "execution_count": null,
   "metadata": {},
   "outputs": [],
   "source": [
    "# Function Calculate Probability of Exceeding \n",
    "# Given a Threshold Intensity Level, Logmean and LogStd of the Mag Distr\n",
    "def Prob_exceed (Target_IM, Mu_lnIM, Sigma_lnIM):\n",
    "    P_exceed = 1 - scipy.stats.norm.cdf(np.log(Target_IM[i]), \n",
    "                                        loc=Mu_lnIM, \n",
    "                                        scale=Sigma_lnIM)\n",
    "    return P_exceed     "
   ]
  },
  {
   "cell_type": "code",
   "execution_count": null,
   "metadata": {},
   "outputs": [],
   "source": [
    "# Calculate Probability of Exceedance for each IM level and each Mag level\n",
    "df_ex_prob = pd.DataFrame(columns= Target_IM, index = Mi)\n",
    "for i in range(len(Target_IM)):\n",
    "    for j in range(len(Mi)):\n",
    "        p = Prob_exceed(Target_IM,Mu_lnIM[j],Sigma_lnIM[j])\n",
    "        df_ex_prob.loc[Mi[j], Target_IM[i]] = p"
   ]
  },
  {
   "cell_type": "code",
   "execution_count": null,
   "metadata": {},
   "outputs": [],
   "source": [
    "df_ex_prob"
   ]
  },
  {
   "cell_type": "code",
   "execution_count": null,
   "metadata": {},
   "outputs": [],
   "source": [
    "# Calculate Rate of Exceedance for each IM level and each event \n",
    "df_ex_rate = pd.DataFrame(columns=Target_IM, index=Mi)\n",
    "for i in range(len(Target_IM)):\n",
    "    for j in range(len(Mi)):\n",
    "        prob_ex = df_ex_prob.loc[Mi[j], Target_IM[i]]\n",
    "        rate = Lambda_bin[j]\n",
    "        rate_ex = prob_ex * rate\n",
    "        df_ex_rate.loc[Mi[j], Target_IM[i]] = rate_ex"
   ]
  },
  {
   "cell_type": "code",
   "execution_count": null,
   "metadata": {
    "tags": []
   },
   "outputs": [],
   "source": [
    "df_ex_rate"
   ]
  },
  {
   "cell_type": "code",
   "execution_count": null,
   "metadata": {},
   "outputs": [],
   "source": [
    "# Sum to constructe the Exceedance Rate Curve\n",
    "Rate_Ex_A = pd.DataFrame(df_ex_rate.sum()).T \n",
    "Rate_Ex_A.index = [\"Total Exceedence Rate\"]\n",
    "Rate_Ex_A"
   ]
  },
  {
   "cell_type": "code",
   "execution_count": null,
   "metadata": {},
   "outputs": [],
   "source": [
    "# Calculate Rate of Exceedance at each IM level for all magnitudes\n",
    "Rate_Ex_A = df_ex_rate.sum()"
   ]
  },
  {
   "cell_type": "code",
   "execution_count": null,
   "metadata": {},
   "outputs": [],
   "source": [
    "# Plot Exceedance Curve\n",
    "\n",
    "plt.figure(figsize=(8, 6))\n",
    "plt.loglog(Target_IM, Rate_Ex_A, label = 'Hazard due to Fault A')\n",
    "\n",
    "plt.xlabel(\"SA(1s) [g]\")\n",
    "plt.ylabel(\"Exceedence Rate\")\n",
    "plt.title(\"Hazard Curve for SA(1s) Building at Site S\")\n",
    "plt.legend()\n",
    "plt.grid(True, which='both', linestyle='--', linewidth=0.5) \n",
    " \n",
    "plt.show()"
   ]
  },
  {
   "cell_type": "code",
   "execution_count": 2,
   "metadata": {},
   "outputs": [],
   "source": [
    "import numpy as np\n",
    "import pandas as pd\n",
    "import matplotlib.pyplot as plt\n",
    "import scipy"
   ]
  },
  {
   "cell_type": "code",
   "execution_count": 3,
   "metadata": {},
   "outputs": [],
   "source": [
    "# Function for GMPE used\n",
    "def GMPE_BJF97_SA1(Mag, Dis, Vs30):\n",
    "    Mu_lnIM = -3.4415 + 1.42*Mag - 0.032*Mag**2 - 0.798*np.log((Dis**2+8.41)**0.5)-0.698*np.log(Vs30)\n",
    "    Sigma_lnIM = 0.52\n",
    "    return Mu_lnIM, Sigma_lnIM "
   ]
  },
  {
   "cell_type": "code",
   "execution_count": 4,
   "metadata": {},
   "outputs": [],
   "source": [
    "# Function Calculate Probability of Exceeding \n",
    "# Given a Intensity Level, a Stochastic Event and its rate of occurance\n",
    "def Prob_exceed (Target_lnIM, Mu_lnIM, Sigma_lnIM):\n",
    "    P_exceed = 1 - scipy.stats.norm.cdf(Target_lnIM, \n",
    "                                        loc=Mu_lnIM, \n",
    "                                        scale=Sigma_lnIM)\n",
    "    return P_exceed     "
   ]
  },
  {
   "cell_type": "code",
   "execution_count": 5,
   "metadata": {},
   "outputs": [],
   "source": [
    "def Func_Hazard_Curve(M0,Mu,a,b,Dis,Vs30,del_M,Target_IM):\n",
    "    \n",
    "    # Discretize Magnitudes\n",
    "    Mi = np.arange(M0, Mu+del_M, del_M)\n",
    "    \n",
    "    # Rate of EQ in each magnitude bin\n",
    "    Lambda = 10**(a - b * (Mi - del_M/2)) - 10**(a - b * (Mi + del_M/2))  \n",
    "\n",
    "    # Mean of IM in Log Space\n",
    "    Mu_lnIM = [ GMPE_BJF97_SA1(M, Dis, Vs30)[0] for M in Mi]\n",
    "    # Std of IM in Log Space\n",
    "    Sigma_lnIM = [ GMPE_BJF97_SA1(M, Dis, Vs30)[1] for M in Mi]\n",
    "    \n",
    "    # Log Target_IM\n",
    "    Target_lnIM = np.log(Target_IM)\n",
    "    \n",
    "    # Compute probability of exceedance\n",
    "    ex_prob_matrix = np.zeros((len(Mi), len(Target_IM)))\n",
    "    for i in range(len(Target_IM)):\n",
    "        for j in range(len(Mi)):\n",
    "            ex_prob_matrix[j, i] = Prob_exceed(Target_lnIM[i], Mu_lnIM[j], Sigma_lnIM[j])\n",
    "    \n",
    "    # Compute Rate of Exceedance\n",
    "    ex_rate_matrix = ex_prob_matrix*Lambda[:, np.newaxis]\n",
    "    \n",
    "    # Compte Rate of Exceedance from all Mags\n",
    "    ex_rate= np.sum(ex_rate_matrix, axis=0)\n",
    "    \n",
    "    return ex_rate"
   ]
  },
  {
   "cell_type": "code",
   "execution_count": 6,
   "metadata": {},
   "outputs": [],
   "source": [
    "HC_A = Func_Hazard_Curve(M0 = 5,\n",
    "                         Mu = 7.5,\n",
    "                         a = 5,\n",
    "                         b = 1,\n",
    "                         Dis = 10,\n",
    "                         Vs30 = 400,\n",
    "                         del_M = 0.01,\n",
    "                         Target_IM = np.arange(0.1, 3, 0.1))\n",
    "\n",
    "HC_B = Func_Hazard_Curve(M0 = 5,\n",
    "                         Mu = 8.5,\n",
    "                         a = 4,\n",
    "                         b = 0.9,\n",
    "                         Dis = 20,\n",
    "                         Vs30 = 400,\n",
    "                         del_M = 0.01,\n",
    "                         Target_IM = np.arange(0.1, 3, 0.1))"
   ]
  },
  {
   "cell_type": "code",
   "execution_count": 7,
   "metadata": {},
   "outputs": [
    {
     "data": {
      "text/html": [
       "<div>\n",
       "<style scoped>\n",
       "    .dataframe tbody tr th:only-of-type {\n",
       "        vertical-align: middle;\n",
       "    }\n",
       "\n",
       "    .dataframe tbody tr th {\n",
       "        vertical-align: top;\n",
       "    }\n",
       "\n",
       "    .dataframe thead th {\n",
       "        text-align: right;\n",
       "    }\n",
       "</style>\n",
       "<table border=\"1\" class=\"dataframe\">\n",
       "  <thead>\n",
       "    <tr style=\"text-align: right;\">\n",
       "      <th></th>\n",
       "      <th>0.1</th>\n",
       "      <th>0.2</th>\n",
       "      <th>0.3</th>\n",
       "      <th>0.4</th>\n",
       "      <th>0.5</th>\n",
       "      <th>0.6</th>\n",
       "      <th>0.7</th>\n",
       "      <th>0.8</th>\n",
       "      <th>0.9</th>\n",
       "      <th>1.0</th>\n",
       "      <th>...</th>\n",
       "      <th>2.0</th>\n",
       "      <th>2.1</th>\n",
       "      <th>2.2</th>\n",
       "      <th>2.3</th>\n",
       "      <th>2.4</th>\n",
       "      <th>2.5</th>\n",
       "      <th>2.6</th>\n",
       "      <th>2.7</th>\n",
       "      <th>2.8</th>\n",
       "      <th>2.9</th>\n",
       "    </tr>\n",
       "  </thead>\n",
       "  <tbody>\n",
       "    <tr>\n",
       "      <th>Exceed Rate Fault A</th>\n",
       "      <td>0.241174</td>\n",
       "      <td>0.057309</td>\n",
       "      <td>0.021567</td>\n",
       "      <td>0.010017</td>\n",
       "      <td>0.005200</td>\n",
       "      <td>0.002891</td>\n",
       "      <td>0.001685</td>\n",
       "      <td>0.001018</td>\n",
       "      <td>0.000633</td>\n",
       "      <td>0.000403</td>\n",
       "      <td>...</td>\n",
       "      <td>0.000010</td>\n",
       "      <td>0.000007</td>\n",
       "      <td>0.000005</td>\n",
       "      <td>0.000004</td>\n",
       "      <td>0.000003</td>\n",
       "      <td>0.000002</td>\n",
       "      <td>0.000002</td>\n",
       "      <td>0.000001</td>\n",
       "      <td>1.030247e-06</td>\n",
       "      <td>7.953720e-07</td>\n",
       "    </tr>\n",
       "    <tr>\n",
       "      <th>Exceed Rate Fault B</th>\n",
       "      <td>0.032629</td>\n",
       "      <td>0.007962</td>\n",
       "      <td>0.003287</td>\n",
       "      <td>0.001683</td>\n",
       "      <td>0.000965</td>\n",
       "      <td>0.000592</td>\n",
       "      <td>0.000380</td>\n",
       "      <td>0.000252</td>\n",
       "      <td>0.000172</td>\n",
       "      <td>0.000119</td>\n",
       "      <td>...</td>\n",
       "      <td>0.000006</td>\n",
       "      <td>0.000005</td>\n",
       "      <td>0.000004</td>\n",
       "      <td>0.000003</td>\n",
       "      <td>0.000002</td>\n",
       "      <td>0.000002</td>\n",
       "      <td>0.000001</td>\n",
       "      <td>0.000001</td>\n",
       "      <td>8.821605e-07</td>\n",
       "      <td>7.096902e-07</td>\n",
       "    </tr>\n",
       "    <tr>\n",
       "      <th>Exceed Rate Total</th>\n",
       "      <td>0.273803</td>\n",
       "      <td>0.065270</td>\n",
       "      <td>0.024855</td>\n",
       "      <td>0.011700</td>\n",
       "      <td>0.006165</td>\n",
       "      <td>0.003483</td>\n",
       "      <td>0.002066</td>\n",
       "      <td>0.001271</td>\n",
       "      <td>0.000805</td>\n",
       "      <td>0.000522</td>\n",
       "      <td>...</td>\n",
       "      <td>0.000016</td>\n",
       "      <td>0.000012</td>\n",
       "      <td>0.000009</td>\n",
       "      <td>0.000007</td>\n",
       "      <td>0.000005</td>\n",
       "      <td>0.000004</td>\n",
       "      <td>0.000003</td>\n",
       "      <td>0.000002</td>\n",
       "      <td>1.912408e-06</td>\n",
       "      <td>1.505062e-06</td>\n",
       "    </tr>\n",
       "  </tbody>\n",
       "</table>\n",
       "<p>3 rows × 29 columns</p>\n",
       "</div>"
      ],
      "text/plain": [
       "                          0.1       0.2       0.3       0.4       0.5  \\\n",
       "Exceed Rate Fault A  0.241174  0.057309  0.021567  0.010017  0.005200   \n",
       "Exceed Rate Fault B  0.032629  0.007962  0.003287  0.001683  0.000965   \n",
       "Exceed Rate Total    0.273803  0.065270  0.024855  0.011700  0.006165   \n",
       "\n",
       "                          0.6       0.7       0.8       0.9       1.0  ...  \\\n",
       "Exceed Rate Fault A  0.002891  0.001685  0.001018  0.000633  0.000403  ...   \n",
       "Exceed Rate Fault B  0.000592  0.000380  0.000252  0.000172  0.000119  ...   \n",
       "Exceed Rate Total    0.003483  0.002066  0.001271  0.000805  0.000522  ...   \n",
       "\n",
       "                          2.0       2.1       2.2       2.3       2.4  \\\n",
       "Exceed Rate Fault A  0.000010  0.000007  0.000005  0.000004  0.000003   \n",
       "Exceed Rate Fault B  0.000006  0.000005  0.000004  0.000003  0.000002   \n",
       "Exceed Rate Total    0.000016  0.000012  0.000009  0.000007  0.000005   \n",
       "\n",
       "                          2.5       2.6       2.7           2.8           2.9  \n",
       "Exceed Rate Fault A  0.000002  0.000002  0.000001  1.030247e-06  7.953720e-07  \n",
       "Exceed Rate Fault B  0.000002  0.000001  0.000001  8.821605e-07  7.096902e-07  \n",
       "Exceed Rate Total    0.000004  0.000003  0.000002  1.912408e-06  1.505062e-06  \n",
       "\n",
       "[3 rows x 29 columns]"
      ]
     },
     "execution_count": 7,
     "metadata": {},
     "output_type": "execute_result"
    }
   ],
   "source": [
    "index_names = ['Exceed Rate Fault A', 'Exceed Rate Fault B','Exceed Rate Total']\n",
    "# Define data as NumPy arrays\n",
    "row_1 = HC_A\n",
    "row_2 = HC_B\n",
    "row_3 = HC_A + HC_B\n",
    "# Create DataFrame\n",
    "df = pd.DataFrame([row_1, row_2, row_3], columns=np.arange(0.1, 3, 0.1), index=index_names)\n",
    "df"
   ]
  },
  {
   "cell_type": "code",
   "execution_count": null,
   "metadata": {},
   "outputs": [],
   "source": [
    "# Plot Exceedance Curve\n",
    "\n",
    "plt.figure(figsize=(8, 6))\n",
    "Target_IM = np.arange(0.1, 3, 0.1)\n",
    "plt.loglog(Target_IM, HC_A, label = 'Hazard Due to Fault A',linewidth=1)\n",
    "plt.loglog(Target_IM, HC_B, label = 'Hazard Due to Fault B',linewidth=1)\n",
    "plt.loglog(Target_IM, HC_A+HC_B, label = 'Total Hazard', linewidth=2)\n",
    "\n",
    "plt.xlabel(\"SA(1s) [g]\")\n",
    "plt.ylabel(\"Exceedence Rate\")\n",
    "plt.title(\"Hazard Curve for SA(1s) Building at Site S\")\n",
    "plt.legend()\n",
    "plt.grid(True, which='both', linestyle='--', linewidth=0.5)  # Both major and minor grid\n",
    " \n",
    "plt.show()"
   ]
  },
  {
   "cell_type": "code",
   "execution_count": null,
   "metadata": {},
   "outputs": [],
   "source": [
    "import numpy as np\n",
    "import scipy as sp\n",
    "import matplotlib.pyplot as plt"
   ]
  },
  {
   "cell_type": "code",
   "execution_count": null,
   "metadata": {},
   "outputs": [],
   "source": [
    "# Define integration limits for M\n",
    "m_limits = {\n",
    "    'A': (5, 7.5),  \n",
    "    'B': (5, 8.5)  \n",
    "}\n",
    "\n",
    "# Define constant R value\n",
    "r_values = {\n",
    "    'A': 10,  \n",
    "    'B': 20}   \n",
    "\n",
    "# Define set of sources and their parameterstheir occurrence rates\n",
    "sources = ['A', \n",
    "           'B'] \n",
    "source_para = {\"A\":{'a':5,'b':1},\n",
    "               \"B\":{'a':4,'b':0.9}}"
   ]
  },
  {
   "cell_type": "code",
   "execution_count": null,
   "metadata": {},
   "outputs": [],
   "source": [
    "# Define Occurance Rate for Sources\n",
    "def Lambda(s):\n",
    "    \n",
    "    a = source_para[s]['a']\n",
    "    alpha = a*np.log(10)\n",
    "    b = source_para[s]['b']\n",
    "    beta = b*np.log(10)\n",
    "    \n",
    "    M0 = m_limits[s][0]\n",
    "    Mu = m_limits[s][1]\n",
    "    \n",
    "    total_rate = (np.exp(alpha - beta * M0) - np.exp(alpha - beta * Mu)) / beta\n",
    "    return total_rate"
   ]
  },
  {
   "cell_type": "code",
   "execution_count": null,
   "metadata": {},
   "outputs": [],
   "source": [
    "# Define PDF for Magnitude Occurance\n",
    "def f_M(m, s):\n",
    "    \"\"\" Probability density function f_M(m | s) \"\"\"\n",
    "    \n",
    "    a = source_para[s]['a']\n",
    "    alpha = a*np.log(10)\n",
    "    b = source_para[s]['b']\n",
    "    beta = b*np.log(10)\n",
    "    \n",
    "    M0 = m_limits[s][0]\n",
    "    Mu = m_limits[s][1]\n",
    "    \n",
    "    f_m = beta * np.exp(-beta * (m - M0)) / ( 1 - np.exp(-beta * (Mu - M0)))\n",
    "    return f_m"
   ]
  },
  {
   "cell_type": "code",
   "execution_count": null,
   "metadata": {},
   "outputs": [],
   "source": [
    "# Define Probability Functions\n",
    "def P_IM(im, r, m, s):\n",
    "    \"\"\" Probability function P(IM > im | r, m, s) \"\"\"\n",
    "    \n",
    "    # GMPE Function\n",
    "    def GMPE_BJF97_SA1(Mag, Dis, Vs30):\n",
    "        Mu_lnIM = -3.4415 + 1.42*Mag - 0.032*Mag**2 - 0.798*np.log((Dis**2+8.41)**0.5)-0.698*np.log(Vs30)\n",
    "        Sigma_lnIM = 0.52\n",
    "        return Mu_lnIM, Sigma_lnIM \n",
    "    \n",
    "    # Run GMPE\n",
    "    Mu_lnIM, Sigma_lnIM = GMPE_BJF97_SA1(m, r, 400)\n",
    "    \n",
    "    # Probability of Exceeding a given im threshold\n",
    "    P_exceed = 1 - sp.stats.norm.cdf(np.log(im), loc=Mu_lnIM, scale=Sigma_lnIM)\n",
    "    \n",
    "    return P_exceed "
   ]
  },
  {
   "cell_type": "code",
   "execution_count": null,
   "metadata": {},
   "outputs": [],
   "source": [
    "def lambda_exceedance(im):\n",
    "    \"\"\"\n",
    "    Computes λ(IM > im) for a given im threshold\n",
    "    \"\"\"\n",
    "    return sum(\n",
    "        Lambda(s) * sp.integrate.quad(\n",
    "            lambda m: P_IM(im, r_values[s], m, s) * f_M(m, s),\n",
    "            m_limits[s][0], m_limits[s][1]  # Limits for M\n",
    "        )[0]\n",
    "        for s in sources\n",
    "    )"
   ]
  },
  {
   "cell_type": "code",
   "execution_count": null,
   "metadata": {},
   "outputs": [],
   "source": [
    "# Calculate Exceedance Rate for All IM levels\n",
    "im_values = np.arange(0.1, 3, 0.1) \n",
    "Rate_Ex_Int = []\n",
    "for im in im_values:\n",
    "    Rate_Ex_Int.append(lambda_exceedance(im))"
   ]
  },
  {
   "cell_type": "code",
   "execution_count": null,
   "metadata": {},
   "outputs": [],
   "source": [
    "# Plot Exceedance Curve\n",
    "\n",
    "plt.figure(figsize=(8, 6))\n",
    "Target_IM = np.arange(0.1, 3, 0.1)\n",
    "plt.loglog(Target_IM, HC_A+HC_B, label = 'Discritization', linewidth=2)\n",
    "plt.loglog(Target_IM, Rate_Ex_Int, label = 'Integration', linewidth=2)\n",
    "\n",
    "plt.xlabel(\"SA(1s) [g]\")\n",
    "plt.ylabel(\"Exceedence Rate\")\n",
    "plt.title(\"Hazard Curve for 1s Building at Site S\")\n",
    "plt.legend()\n",
    "plt.grid(True, which='both', linestyle='--', linewidth=0.5)  # Both major and minor grid\n",
    " \n",
    "plt.show()"
   ]
  },
  {
   "cell_type": "markdown",
   "metadata": {
    "tags": []
   },
   "source": [
    "#### Method 2: Monte Carlo Simulation"
   ]
  },
  {
   "cell_type": "code",
   "execution_count": 21,
   "metadata": {},
   "outputs": [],
   "source": [
    "import numpy as np\n",
    "import pandas as pd\n",
    "import matplotlib.pyplot as plt"
   ]
  },
  {
   "cell_type": "markdown",
   "metadata": {
    "tags": []
   },
   "source": [
    "**Monte Carlo Events Simulation**"
   ]
  },
  {
   "cell_type": "code",
   "execution_count": 22,
   "metadata": {},
   "outputs": [],
   "source": [
    "def Func_MC_Event_Sim(M0, Mu, del_M, a, b, T, Source):\n",
    "    \n",
    "    # Magnitude Levels\n",
    "    Mi = np.arange(M0, Mu, del_M)\n",
    "    # Rate of Occurance for Each Magnitudes\n",
    "    Lambda = 10**(a - b * (Mi - del_M/2)) - 10**(a - b * (Mi + del_M/2)) \n",
    "    \n",
    "    # Simulation Table\n",
    "    Events = []\n",
    "    \n",
    "    # For each Magnitude Level\n",
    "    for i in range(len(Mi)):\n",
    "        # Magnitude\n",
    "        m = Mi[i]\n",
    "        # Generate Events in Each Year\n",
    "        Ns = np.random.poisson(Lambda[i],T)\n",
    "        # For each Year\n",
    "        for i in range(T):\n",
    "            # Year\n",
    "            t = i\n",
    "            # Number of Events for this Magnitude\n",
    "            n = Ns[i]\n",
    "            # Store Events in Event Table\n",
    "            for _ in range(n): \n",
    "                Events.append([t, Source, m])\n",
    "                \n",
    "    # Create DataFrame\n",
    "    df_result = pd.DataFrame(Events, columns=[\"Year\", \"Source\", \"Magnitude\"])\n",
    "\n",
    "    return df_result"
   ]
  },
  {
   "cell_type": "code",
   "execution_count": 23,
   "metadata": {},
   "outputs": [],
   "source": [
    "# Simulated Events for Each Fault for 1000 Years\n",
    "Sim_Events_A = Func_MC_Event_Sim(M0=5, Mu=7.5, del_M=0.1, a=5, b=1, T=25000, Source='Fault A')\n",
    "Sim_Events_B = Func_MC_Event_Sim(M0=5, Mu=8.5, del_M=0.1, a=4, b=0.9, T=25000, Source='Fault B')\n",
    "\n",
    "# Combine Simulated Event Table\n",
    "Sim_Events = pd.concat([Sim_Events_A, Sim_Events_B], ignore_index=True)\n",
    "\n",
    "# Sort by \"Year\" column in ascending order\n",
    "Sim_Events = Sim_Events.sort_values(by=\"Year\", ascending=True).reset_index(drop=True)"
   ]
  },
  {
   "cell_type": "code",
   "execution_count": 24,
   "metadata": {},
   "outputs": [
    {
     "data": {
      "text/html": [
       "<div>\n",
       "<style scoped>\n",
       "    .dataframe tbody tr th:only-of-type {\n",
       "        vertical-align: middle;\n",
       "    }\n",
       "\n",
       "    .dataframe tbody tr th {\n",
       "        vertical-align: top;\n",
       "    }\n",
       "\n",
       "    .dataframe thead th {\n",
       "        text-align: right;\n",
       "    }\n",
       "</style>\n",
       "<table border=\"1\" class=\"dataframe\">\n",
       "  <thead>\n",
       "    <tr style=\"text-align: right;\">\n",
       "      <th></th>\n",
       "      <th>Year</th>\n",
       "      <th>Source</th>\n",
       "      <th>Magnitude</th>\n",
       "    </tr>\n",
       "  </thead>\n",
       "  <tbody>\n",
       "    <tr>\n",
       "      <th>0</th>\n",
       "      <td>0</td>\n",
       "      <td>Fault A</td>\n",
       "      <td>5.6</td>\n",
       "    </tr>\n",
       "    <tr>\n",
       "      <th>1</th>\n",
       "      <td>1</td>\n",
       "      <td>Fault A</td>\n",
       "      <td>5.1</td>\n",
       "    </tr>\n",
       "    <tr>\n",
       "      <th>2</th>\n",
       "      <td>1</td>\n",
       "      <td>Fault B</td>\n",
       "      <td>5.0</td>\n",
       "    </tr>\n",
       "    <tr>\n",
       "      <th>3</th>\n",
       "      <td>1</td>\n",
       "      <td>Fault B</td>\n",
       "      <td>5.0</td>\n",
       "    </tr>\n",
       "    <tr>\n",
       "      <th>4</th>\n",
       "      <td>2</td>\n",
       "      <td>Fault A</td>\n",
       "      <td>5.0</td>\n",
       "    </tr>\n",
       "    <tr>\n",
       "      <th>...</th>\n",
       "      <td>...</td>\n",
       "      <td>...</td>\n",
       "      <td>...</td>\n",
       "    </tr>\n",
       "    <tr>\n",
       "      <th>36894</th>\n",
       "      <td>24994</td>\n",
       "      <td>Fault A</td>\n",
       "      <td>5.1</td>\n",
       "    </tr>\n",
       "    <tr>\n",
       "      <th>36895</th>\n",
       "      <td>24996</td>\n",
       "      <td>Fault A</td>\n",
       "      <td>5.6</td>\n",
       "    </tr>\n",
       "    <tr>\n",
       "      <th>36896</th>\n",
       "      <td>24996</td>\n",
       "      <td>Fault A</td>\n",
       "      <td>5.4</td>\n",
       "    </tr>\n",
       "    <tr>\n",
       "      <th>36897</th>\n",
       "      <td>24997</td>\n",
       "      <td>Fault A</td>\n",
       "      <td>5.2</td>\n",
       "    </tr>\n",
       "    <tr>\n",
       "      <th>36898</th>\n",
       "      <td>24997</td>\n",
       "      <td>Fault B</td>\n",
       "      <td>5.1</td>\n",
       "    </tr>\n",
       "  </tbody>\n",
       "</table>\n",
       "<p>36899 rows × 3 columns</p>\n",
       "</div>"
      ],
      "text/plain": [
       "        Year   Source  Magnitude\n",
       "0          0  Fault A        5.6\n",
       "1          1  Fault A        5.1\n",
       "2          1  Fault B        5.0\n",
       "3          1  Fault B        5.0\n",
       "4          2  Fault A        5.0\n",
       "...      ...      ...        ...\n",
       "36894  24994  Fault A        5.1\n",
       "36895  24996  Fault A        5.6\n",
       "36896  24996  Fault A        5.4\n",
       "36897  24997  Fault A        5.2\n",
       "36898  24997  Fault B        5.1\n",
       "\n",
       "[36899 rows x 3 columns]"
      ]
     },
     "execution_count": 24,
     "metadata": {},
     "output_type": "execute_result"
    }
   ],
   "source": [
    "Sim_Events"
   ]
  },
  {
   "cell_type": "markdown",
   "metadata": {},
   "source": [
    "**Intensity Calculation for Each Event**"
   ]
  },
  {
   "cell_type": "code",
   "execution_count": 25,
   "metadata": {},
   "outputs": [],
   "source": [
    "# GMPE Function\n",
    "def GMPE_BJF97_SA1(Mag, Dis, Vs30):\n",
    "    Mu_lnIM = -3.4415 + 1.42*Mag - 0.032*Mag**2 - 0.798*np.log((Dis**2+8.41)**0.5)-0.698*np.log(Vs30)\n",
    "    Sigma_lnIM = 0.52\n",
    "    return Mu_lnIM, Sigma_lnIM "
   ]
  },
  {
   "cell_type": "code",
   "execution_count": 26,
   "metadata": {},
   "outputs": [],
   "source": [
    "# Parameterss\n",
    "Dis = {'Fault A':10, 'Fault B':20}\n",
    "# \n",
    "Sim_IM = []\n",
    "\n",
    "# For each event, simulate a IM\n",
    "for _, row in Sim_Events.iterrows():\n",
    "    \n",
    "    # Magnitude and Distance for this Event\n",
    "    M = row['Magnitude']\n",
    "    D = Dis[row['Source']]\n",
    "    \n",
    "    # Log Mean and Std of IM for this event\n",
    "    Mu_lnIM, Sigma_lnIM = GMPE_BJF97_SA1(M, D, 400)\n",
    "\n",
    "    # Simulate a IM\n",
    "    im = np.random.lognormal(mean=Mu_lnIM, sigma=Sigma_lnIM)\n",
    "    Sim_IM.append(im)\n",
    "\n",
    "# Add to Simulation Event Table\n",
    "Sim_Events['SA(1s)'] = Sim_IM"
   ]
  },
  {
   "cell_type": "code",
   "execution_count": 27,
   "metadata": {},
   "outputs": [
    {
     "data": {
      "text/html": [
       "<div>\n",
       "<style scoped>\n",
       "    .dataframe tbody tr th:only-of-type {\n",
       "        vertical-align: middle;\n",
       "    }\n",
       "\n",
       "    .dataframe tbody tr th {\n",
       "        vertical-align: top;\n",
       "    }\n",
       "\n",
       "    .dataframe thead th {\n",
       "        text-align: right;\n",
       "    }\n",
       "</style>\n",
       "<table border=\"1\" class=\"dataframe\">\n",
       "  <thead>\n",
       "    <tr style=\"text-align: right;\">\n",
       "      <th></th>\n",
       "      <th>Year</th>\n",
       "      <th>Source</th>\n",
       "      <th>Magnitude</th>\n",
       "      <th>SA(1s)</th>\n",
       "    </tr>\n",
       "  </thead>\n",
       "  <tbody>\n",
       "    <tr>\n",
       "      <th>0</th>\n",
       "      <td>0</td>\n",
       "      <td>Fault A</td>\n",
       "      <td>5.6</td>\n",
       "      <td>0.046887</td>\n",
       "    </tr>\n",
       "    <tr>\n",
       "      <th>1</th>\n",
       "      <td>1</td>\n",
       "      <td>Fault A</td>\n",
       "      <td>5.1</td>\n",
       "      <td>0.042335</td>\n",
       "    </tr>\n",
       "    <tr>\n",
       "      <th>2</th>\n",
       "      <td>1</td>\n",
       "      <td>Fault B</td>\n",
       "      <td>5.0</td>\n",
       "      <td>0.022260</td>\n",
       "    </tr>\n",
       "    <tr>\n",
       "      <th>3</th>\n",
       "      <td>1</td>\n",
       "      <td>Fault B</td>\n",
       "      <td>5.0</td>\n",
       "      <td>0.032323</td>\n",
       "    </tr>\n",
       "    <tr>\n",
       "      <th>4</th>\n",
       "      <td>2</td>\n",
       "      <td>Fault A</td>\n",
       "      <td>5.0</td>\n",
       "      <td>0.015389</td>\n",
       "    </tr>\n",
       "    <tr>\n",
       "      <th>...</th>\n",
       "      <td>...</td>\n",
       "      <td>...</td>\n",
       "      <td>...</td>\n",
       "      <td>...</td>\n",
       "    </tr>\n",
       "    <tr>\n",
       "      <th>36894</th>\n",
       "      <td>24994</td>\n",
       "      <td>Fault A</td>\n",
       "      <td>5.1</td>\n",
       "      <td>0.029519</td>\n",
       "    </tr>\n",
       "    <tr>\n",
       "      <th>36895</th>\n",
       "      <td>24996</td>\n",
       "      <td>Fault A</td>\n",
       "      <td>5.6</td>\n",
       "      <td>0.051026</td>\n",
       "    </tr>\n",
       "    <tr>\n",
       "      <th>36896</th>\n",
       "      <td>24996</td>\n",
       "      <td>Fault A</td>\n",
       "      <td>5.4</td>\n",
       "      <td>0.100240</td>\n",
       "    </tr>\n",
       "    <tr>\n",
       "      <th>36897</th>\n",
       "      <td>24997</td>\n",
       "      <td>Fault A</td>\n",
       "      <td>5.2</td>\n",
       "      <td>0.041167</td>\n",
       "    </tr>\n",
       "    <tr>\n",
       "      <th>36898</th>\n",
       "      <td>24997</td>\n",
       "      <td>Fault B</td>\n",
       "      <td>5.1</td>\n",
       "      <td>0.018792</td>\n",
       "    </tr>\n",
       "  </tbody>\n",
       "</table>\n",
       "<p>36899 rows × 4 columns</p>\n",
       "</div>"
      ],
      "text/plain": [
       "        Year   Source  Magnitude    SA(1s)\n",
       "0          0  Fault A        5.6  0.046887\n",
       "1          1  Fault A        5.1  0.042335\n",
       "2          1  Fault B        5.0  0.022260\n",
       "3          1  Fault B        5.0  0.032323\n",
       "4          2  Fault A        5.0  0.015389\n",
       "...      ...      ...        ...       ...\n",
       "36894  24994  Fault A        5.1  0.029519\n",
       "36895  24996  Fault A        5.6  0.051026\n",
       "36896  24996  Fault A        5.4  0.100240\n",
       "36897  24997  Fault A        5.2  0.041167\n",
       "36898  24997  Fault B        5.1  0.018792\n",
       "\n",
       "[36899 rows x 4 columns]"
      ]
     },
     "execution_count": 27,
     "metadata": {},
     "output_type": "execute_result"
    }
   ],
   "source": [
    "Sim_Events"
   ]
  },
  {
   "cell_type": "code",
   "execution_count": 28,
   "metadata": {},
   "outputs": [
    {
     "data": {
      "image/png": "[encoded data removed]",
      "text/plain": [
       "<Figure size 800x500 with 1 Axes>"
      ]
     },
     "metadata": {},
     "output_type": "display_data"
    }
   ],
   "source": [
    "def plot_histogram(data, bin_size):\n",
    "    \n",
    "    # Compute min & max values for bin range\n",
    "    data_min, data_max = min(data), max(data)\n",
    "    \n",
    "    # Generate bin edges based on bin size\n",
    "    bins = np.arange(data_min, data_max + bin_size, bin_size)\n",
    "    \n",
    "    # Plot histogram\n",
    "    plt.figure(figsize=(8, 5))\n",
    "    plt.hist(data, bins=bins, edgecolor='black', alpha=0.7)\n",
    "\n",
    "    # Labels and title\n",
    "    plt.xlabel(\"SA(1s) [g]\")\n",
    "    plt.ylabel(\"Frequency\")\n",
    "    plt.grid(True, linestyle='--', alpha=0.5)\n",
    "    \n",
    "    # Show the histogram\n",
    "    plt.show()\n",
    "\n",
    "plot_histogram(Sim_Events['SA(1s)'], 0.02)"
   ]
  },
  {
   "cell_type": "markdown",
   "metadata": {},
   "source": [
    "**Hazard Curve Construction**"
   ]
  },
  {
   "cell_type": "code",
   "execution_count": 29,
   "metadata": {},
   "outputs": [],
   "source": [
    "def Sim_Rate_Ex(SimIM, TargetIM, T):\n",
    "\n",
    "    ex_rates = []\n",
    "    \n",
    "    # For each IM threshold\n",
    "    for im in TargetIM:\n",
    "        \n",
    "        # Count the number of simulated IM > threshold\n",
    "        count_ex = np.sum(np.array(SimIM) > im)  \n",
    "        \n",
    "        # Calculate Rate = Counte / Years\n",
    "        rate = count_ex / T  \n",
    "        \n",
    "        ex_rates.append(rate)\n",
    "    \n",
    "    df_result = pd.DataFrame({'IM': TargetIM, 'Exceedance_Rate': ex_rates})\n",
    "    \n",
    "    return df_result"
   ]
  },
  {
   "cell_type": "code",
   "execution_count": 30,
   "metadata": {},
   "outputs": [],
   "source": [
    "Rate_Ex_Sim = Sim_Rate_Ex(SimIM = Sim_Events['SA(1s)'], \n",
    "                          TargetIM = np.arange(0.1,3,0.1), \n",
    "                          T=25000)"
   ]
  },
  {
   "cell_type": "code",
   "execution_count": 32,
   "metadata": {},
   "outputs": [
    {
     "data": {
      "image/png": "[encoded data removed]",
      "text/plain": [
       "<Figure size 800x600 with 1 Axes>"
      ]
     },
     "metadata": {},
     "output_type": "display_data"
    }
   ],
   "source": [
    "# Plot Exceedance Curve\n",
    "\n",
    "plt.figure(figsize=(8, 6))\n",
    "Target_IM = np.arange(0.1, 3, 0.1)\n",
    "plt.loglog(Target_IM, HC_A+HC_B, label = 'Numerical Integration', linewidth=2)\n",
    "plt.loglog(Target_IM, Rate_Ex_Sim['Exceedance_Rate'], label = 'Monte Carlo Simulation', linewidth=2)\n",
    "\n",
    "plt.xlabel(\"SA(1s) [g]\")\n",
    "plt.ylabel(\"Exceedence Rate\")\n",
    "plt.title(\"Hazard Curve for T=1s Building at Site S\")\n",
    "plt.legend()\n",
    "plt.grid(True, which='both', linestyle='--', linewidth=0.5)  # Both major and minor grid\n",
    " \n",
    "plt.show()"
   ]
  }
 ],
 "metadata": {
  "colab": {
   "provenance": []
  },
  "kernelspec": {
   "display_name": "Python 3 (ipykernel)",
   "language": "python",
   "name": "python3"
  },
  "language_info": {
   "codemirror_mode": {
    "name": "ipython",
    "version": 3
   },
   "file_extension": ".py",
   "mimetype": "text/x-python",
   "name": "python",
   "nbconvert_exporter": "python",
   "pygments_lexer": "ipython3",
   "version": "3.11.5"
  }
 },
 "nbformat": 4,
 "nbformat_minor": 4
}
